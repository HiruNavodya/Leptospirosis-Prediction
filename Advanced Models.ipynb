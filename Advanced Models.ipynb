{
 "cells": [
  {
   "cell_type": "markdown",
   "id": "a0fad6c6-739e-44a0-9272-a499b65f906c",
   "metadata": {},
   "source": [
    "# Assignment 2  :  s15680"
   ]
  },
  {
   "cell_type": "code",
   "execution_count": 1034,
   "id": "ea93fca2-c1a0-4150-98a4-a650744163a5",
   "metadata": {},
   "outputs": [],
   "source": [
    "import pandas as pd\n",
    "import numpy as np\n",
    "\n",
    "import pandas as pd \n",
    "import numpy as np\n",
    "import warnings\n",
    "\n",
    "# Filter out warning messages\n",
    "warnings.filterwarnings(\"ignore\")\n",
    "\n"
   ]
  },
  {
   "cell_type": "code",
   "execution_count": 1035,
   "id": "7c37dbfd-08ef-46a1-9f87-82f5b808aecd",
   "metadata": {},
   "outputs": [
    {
     "data": {
      "text/html": [
       "<div>\n",
       "<style scoped>\n",
       "    .dataframe tbody tr th:only-of-type {\n",
       "        vertical-align: middle;\n",
       "    }\n",
       "\n",
       "    .dataframe tbody tr th {\n",
       "        vertical-align: top;\n",
       "    }\n",
       "\n",
       "    .dataframe thead th {\n",
       "        text-align: right;\n",
       "    }\n",
       "</style>\n",
       "<table border=\"1\" class=\"dataframe\">\n",
       "  <thead>\n",
       "    <tr style=\"text-align: right;\">\n",
       "      <th></th>\n",
       "      <th>ID</th>\n",
       "      <th>Year</th>\n",
       "      <th>Month</th>\n",
       "      <th>Hospital</th>\n",
       "      <th>Sample</th>\n",
       "      <th>ICU</th>\n",
       "      <th>OPD</th>\n",
       "      <th>Sex</th>\n",
       "      <th>Age</th>\n",
       "      <th>Ethnicity</th>\n",
       "      <th>...</th>\n",
       "      <th>FU_L.interrogansserovarMankarsostr.Mankarso</th>\n",
       "      <th>FU_L.santarosaiserovarGeorgiastr.LT117</th>\n",
       "      <th>FU_L.santarosaiserovarPyrogenesstr.Salinem</th>\n",
       "      <th>FU_L.interrogansserovarBataviaestr.VanTienan</th>\n",
       "      <th>FU_L.interrogansserovarAlexistr.616</th>\n",
       "      <th>FU_L.interrogansserovarAustralisstr.Ballico</th>\n",
       "      <th>FU_L.interrogansserovarwolfiistr.3705</th>\n",
       "      <th>FU_L.interrogansserovarWeerasinghe</th>\n",
       "      <th>FU_Patoc</th>\n",
       "      <th>Final</th>\n",
       "    </tr>\n",
       "  </thead>\n",
       "  <tbody>\n",
       "    <tr>\n",
       "      <th>0</th>\n",
       "      <td>1</td>\n",
       "      <td>2018</td>\n",
       "      <td>11</td>\n",
       "      <td>7</td>\n",
       "      <td>1</td>\n",
       "      <td>2</td>\n",
       "      <td>2</td>\n",
       "      <td>2</td>\n",
       "      <td>53</td>\n",
       "      <td>1</td>\n",
       "      <td>...</td>\n",
       "      <td>NaN</td>\n",
       "      <td>NaN</td>\n",
       "      <td>NaN</td>\n",
       "      <td>NaN</td>\n",
       "      <td>NaN</td>\n",
       "      <td>NaN</td>\n",
       "      <td>NaN</td>\n",
       "      <td>NaN</td>\n",
       "      <td>NaN</td>\n",
       "      <td>2</td>\n",
       "    </tr>\n",
       "    <tr>\n",
       "      <th>1</th>\n",
       "      <td>2</td>\n",
       "      <td>2018</td>\n",
       "      <td>1</td>\n",
       "      <td>7</td>\n",
       "      <td>1</td>\n",
       "      <td>2</td>\n",
       "      <td>2</td>\n",
       "      <td>1</td>\n",
       "      <td>17</td>\n",
       "      <td>1</td>\n",
       "      <td>...</td>\n",
       "      <td>NaN</td>\n",
       "      <td>NaN</td>\n",
       "      <td>NaN</td>\n",
       "      <td>NaN</td>\n",
       "      <td>NaN</td>\n",
       "      <td>NaN</td>\n",
       "      <td>NaN</td>\n",
       "      <td>NaN</td>\n",
       "      <td>NaN</td>\n",
       "      <td>1</td>\n",
       "    </tr>\n",
       "    <tr>\n",
       "      <th>2</th>\n",
       "      <td>3</td>\n",
       "      <td>2018</td>\n",
       "      <td>5</td>\n",
       "      <td>7</td>\n",
       "      <td>1</td>\n",
       "      <td>2</td>\n",
       "      <td>2</td>\n",
       "      <td>1</td>\n",
       "      <td>47</td>\n",
       "      <td>1</td>\n",
       "      <td>...</td>\n",
       "      <td>NaN</td>\n",
       "      <td>NaN</td>\n",
       "      <td>NaN</td>\n",
       "      <td>NaN</td>\n",
       "      <td>NaN</td>\n",
       "      <td>NaN</td>\n",
       "      <td>NaN</td>\n",
       "      <td>NaN</td>\n",
       "      <td>NaN</td>\n",
       "      <td>2</td>\n",
       "    </tr>\n",
       "    <tr>\n",
       "      <th>3</th>\n",
       "      <td>4</td>\n",
       "      <td>2018</td>\n",
       "      <td>1</td>\n",
       "      <td>7</td>\n",
       "      <td>1</td>\n",
       "      <td>2</td>\n",
       "      <td>2</td>\n",
       "      <td>1</td>\n",
       "      <td>21</td>\n",
       "      <td>1</td>\n",
       "      <td>...</td>\n",
       "      <td>NaN</td>\n",
       "      <td>NaN</td>\n",
       "      <td>NaN</td>\n",
       "      <td>NaN</td>\n",
       "      <td>NaN</td>\n",
       "      <td>NaN</td>\n",
       "      <td>NaN</td>\n",
       "      <td>NaN</td>\n",
       "      <td>NaN</td>\n",
       "      <td>2</td>\n",
       "    </tr>\n",
       "    <tr>\n",
       "      <th>4</th>\n",
       "      <td>5</td>\n",
       "      <td>2016</td>\n",
       "      <td>8</td>\n",
       "      <td>7</td>\n",
       "      <td>1</td>\n",
       "      <td>2</td>\n",
       "      <td>1</td>\n",
       "      <td>1</td>\n",
       "      <td>99</td>\n",
       "      <td>1</td>\n",
       "      <td>...</td>\n",
       "      <td>NaN</td>\n",
       "      <td>NaN</td>\n",
       "      <td>NaN</td>\n",
       "      <td>NaN</td>\n",
       "      <td>NaN</td>\n",
       "      <td>NaN</td>\n",
       "      <td>NaN</td>\n",
       "      <td>NaN</td>\n",
       "      <td>NaN</td>\n",
       "      <td>2</td>\n",
       "    </tr>\n",
       "  </tbody>\n",
       "</table>\n",
       "<p>5 rows × 806 columns</p>\n",
       "</div>"
      ],
      "text/plain": [
       "   ID  Year  Month  Hospital  Sample  ICU  OPD  Sex  Age  Ethnicity  ...  \\\n",
       "0   1  2018     11         7       1    2    2    2   53          1  ...   \n",
       "1   2  2018      1         7       1    2    2    1   17          1  ...   \n",
       "2   3  2018      5         7       1    2    2    1   47          1  ...   \n",
       "3   4  2018      1         7       1    2    2    1   21          1  ...   \n",
       "4   5  2016      8         7       1    2    1    1   99          1  ...   \n",
       "\n",
       "   FU_L.interrogansserovarMankarsostr.Mankarso  \\\n",
       "0                                          NaN   \n",
       "1                                          NaN   \n",
       "2                                          NaN   \n",
       "3                                          NaN   \n",
       "4                                          NaN   \n",
       "\n",
       "   FU_L.santarosaiserovarGeorgiastr.LT117  \\\n",
       "0                                     NaN   \n",
       "1                                     NaN   \n",
       "2                                     NaN   \n",
       "3                                     NaN   \n",
       "4                                     NaN   \n",
       "\n",
       "   FU_L.santarosaiserovarPyrogenesstr.Salinem  \\\n",
       "0                                         NaN   \n",
       "1                                         NaN   \n",
       "2                                         NaN   \n",
       "3                                         NaN   \n",
       "4                                         NaN   \n",
       "\n",
       "   FU_L.interrogansserovarBataviaestr.VanTienan  \\\n",
       "0                                           NaN   \n",
       "1                                           NaN   \n",
       "2                                           NaN   \n",
       "3                                           NaN   \n",
       "4                                           NaN   \n",
       "\n",
       "   FU_L.interrogansserovarAlexistr.616  \\\n",
       "0                                  NaN   \n",
       "1                                  NaN   \n",
       "2                                  NaN   \n",
       "3                                  NaN   \n",
       "4                                  NaN   \n",
       "\n",
       "   FU_L.interrogansserovarAustralisstr.Ballico  \\\n",
       "0                                          NaN   \n",
       "1                                          NaN   \n",
       "2                                          NaN   \n",
       "3                                          NaN   \n",
       "4                                          NaN   \n",
       "\n",
       "   FU_L.interrogansserovarwolfiistr.3705  FU_L.interrogansserovarWeerasinghe  \\\n",
       "0                                    NaN                                 NaN   \n",
       "1                                    NaN                                 NaN   \n",
       "2                                    NaN                                 NaN   \n",
       "3                                    NaN                                 NaN   \n",
       "4                                    NaN                                 NaN   \n",
       "\n",
       "   FU_Patoc  Final  \n",
       "0       NaN      2  \n",
       "1       NaN      1  \n",
       "2       NaN      2  \n",
       "3       NaN      2  \n",
       "4       NaN      2  \n",
       "\n",
       "[5 rows x 806 columns]"
      ]
     },
     "execution_count": 1035,
     "metadata": {},
     "output_type": "execute_result"
    }
   ],
   "source": [
    "data = pd.read_csv('train.csv')\n",
    "\n",
    "data.head()"
   ]
  },
  {
   "cell_type": "markdown",
   "id": "dea2d7ec-bc21-4e07-8064-72780c6036f4",
   "metadata": {},
   "source": [
    "## Data Preprocessing"
   ]
  },
  {
   "cell_type": "code",
   "execution_count": 1036,
   "id": "e1d972b5-d352-46b7-b648-ea9c72bd8c29",
   "metadata": {},
   "outputs": [],
   "source": [
    "data = data.copy()"
   ]
  },
  {
   "cell_type": "code",
   "execution_count": 1037,
   "id": "241929bd-5ad3-4a95-84d6-c602c9574338",
   "metadata": {},
   "outputs": [
    {
     "data": {
      "text/html": [
       "<div>\n",
       "<style scoped>\n",
       "    .dataframe tbody tr th:only-of-type {\n",
       "        vertical-align: middle;\n",
       "    }\n",
       "\n",
       "    .dataframe tbody tr th {\n",
       "        vertical-align: top;\n",
       "    }\n",
       "\n",
       "    .dataframe thead th {\n",
       "        text-align: right;\n",
       "    }\n",
       "</style>\n",
       "<table border=\"1\" class=\"dataframe\">\n",
       "  <thead>\n",
       "    <tr style=\"text-align: right;\">\n",
       "      <th></th>\n",
       "      <th>ID</th>\n",
       "      <th>Year</th>\n",
       "      <th>Month</th>\n",
       "      <th>Hospital</th>\n",
       "      <th>Sample</th>\n",
       "      <th>ICU</th>\n",
       "      <th>OPD</th>\n",
       "      <th>Sex</th>\n",
       "      <th>Age</th>\n",
       "      <th>Ethnicity</th>\n",
       "      <th>...</th>\n",
       "      <th>FU_L.interrogansserovarMankarsostr.Mankarso</th>\n",
       "      <th>FU_L.santarosaiserovarGeorgiastr.LT117</th>\n",
       "      <th>FU_L.santarosaiserovarPyrogenesstr.Salinem</th>\n",
       "      <th>FU_L.interrogansserovarBataviaestr.VanTienan</th>\n",
       "      <th>FU_L.interrogansserovarAlexistr.616</th>\n",
       "      <th>FU_L.interrogansserovarAustralisstr.Ballico</th>\n",
       "      <th>FU_L.interrogansserovarwolfiistr.3705</th>\n",
       "      <th>FU_L.interrogansserovarWeerasinghe</th>\n",
       "      <th>FU_Patoc</th>\n",
       "      <th>Final</th>\n",
       "    </tr>\n",
       "  </thead>\n",
       "  <tbody>\n",
       "    <tr>\n",
       "      <th>0</th>\n",
       "      <td>1</td>\n",
       "      <td>2018</td>\n",
       "      <td>11</td>\n",
       "      <td>7</td>\n",
       "      <td>1</td>\n",
       "      <td>2</td>\n",
       "      <td>2</td>\n",
       "      <td>2</td>\n",
       "      <td>53</td>\n",
       "      <td>1</td>\n",
       "      <td>...</td>\n",
       "      <td>NaN</td>\n",
       "      <td>NaN</td>\n",
       "      <td>NaN</td>\n",
       "      <td>NaN</td>\n",
       "      <td>NaN</td>\n",
       "      <td>NaN</td>\n",
       "      <td>NaN</td>\n",
       "      <td>NaN</td>\n",
       "      <td>NaN</td>\n",
       "      <td>2</td>\n",
       "    </tr>\n",
       "    <tr>\n",
       "      <th>1</th>\n",
       "      <td>2</td>\n",
       "      <td>2018</td>\n",
       "      <td>1</td>\n",
       "      <td>7</td>\n",
       "      <td>1</td>\n",
       "      <td>2</td>\n",
       "      <td>2</td>\n",
       "      <td>1</td>\n",
       "      <td>17</td>\n",
       "      <td>1</td>\n",
       "      <td>...</td>\n",
       "      <td>NaN</td>\n",
       "      <td>NaN</td>\n",
       "      <td>NaN</td>\n",
       "      <td>NaN</td>\n",
       "      <td>NaN</td>\n",
       "      <td>NaN</td>\n",
       "      <td>NaN</td>\n",
       "      <td>NaN</td>\n",
       "      <td>NaN</td>\n",
       "      <td>1</td>\n",
       "    </tr>\n",
       "    <tr>\n",
       "      <th>2</th>\n",
       "      <td>3</td>\n",
       "      <td>2018</td>\n",
       "      <td>5</td>\n",
       "      <td>7</td>\n",
       "      <td>1</td>\n",
       "      <td>2</td>\n",
       "      <td>2</td>\n",
       "      <td>1</td>\n",
       "      <td>47</td>\n",
       "      <td>1</td>\n",
       "      <td>...</td>\n",
       "      <td>NaN</td>\n",
       "      <td>NaN</td>\n",
       "      <td>NaN</td>\n",
       "      <td>NaN</td>\n",
       "      <td>NaN</td>\n",
       "      <td>NaN</td>\n",
       "      <td>NaN</td>\n",
       "      <td>NaN</td>\n",
       "      <td>NaN</td>\n",
       "      <td>2</td>\n",
       "    </tr>\n",
       "    <tr>\n",
       "      <th>3</th>\n",
       "      <td>4</td>\n",
       "      <td>2018</td>\n",
       "      <td>1</td>\n",
       "      <td>7</td>\n",
       "      <td>1</td>\n",
       "      <td>2</td>\n",
       "      <td>2</td>\n",
       "      <td>1</td>\n",
       "      <td>21</td>\n",
       "      <td>1</td>\n",
       "      <td>...</td>\n",
       "      <td>NaN</td>\n",
       "      <td>NaN</td>\n",
       "      <td>NaN</td>\n",
       "      <td>NaN</td>\n",
       "      <td>NaN</td>\n",
       "      <td>NaN</td>\n",
       "      <td>NaN</td>\n",
       "      <td>NaN</td>\n",
       "      <td>NaN</td>\n",
       "      <td>2</td>\n",
       "    </tr>\n",
       "    <tr>\n",
       "      <th>4</th>\n",
       "      <td>5</td>\n",
       "      <td>2016</td>\n",
       "      <td>8</td>\n",
       "      <td>7</td>\n",
       "      <td>1</td>\n",
       "      <td>2</td>\n",
       "      <td>1</td>\n",
       "      <td>1</td>\n",
       "      <td>99</td>\n",
       "      <td>1</td>\n",
       "      <td>...</td>\n",
       "      <td>NaN</td>\n",
       "      <td>NaN</td>\n",
       "      <td>NaN</td>\n",
       "      <td>NaN</td>\n",
       "      <td>NaN</td>\n",
       "      <td>NaN</td>\n",
       "      <td>NaN</td>\n",
       "      <td>NaN</td>\n",
       "      <td>NaN</td>\n",
       "      <td>2</td>\n",
       "    </tr>\n",
       "  </tbody>\n",
       "</table>\n",
       "<p>5 rows × 806 columns</p>\n",
       "</div>"
      ],
      "text/plain": [
       "   ID  Year  Month  Hospital  Sample  ICU  OPD  Sex  Age  Ethnicity  ...  \\\n",
       "0   1  2018     11         7       1    2    2    2   53          1  ...   \n",
       "1   2  2018      1         7       1    2    2    1   17          1  ...   \n",
       "2   3  2018      5         7       1    2    2    1   47          1  ...   \n",
       "3   4  2018      1         7       1    2    2    1   21          1  ...   \n",
       "4   5  2016      8         7       1    2    1    1   99          1  ...   \n",
       "\n",
       "   FU_L.interrogansserovarMankarsostr.Mankarso  \\\n",
       "0                                          NaN   \n",
       "1                                          NaN   \n",
       "2                                          NaN   \n",
       "3                                          NaN   \n",
       "4                                          NaN   \n",
       "\n",
       "   FU_L.santarosaiserovarGeorgiastr.LT117  \\\n",
       "0                                     NaN   \n",
       "1                                     NaN   \n",
       "2                                     NaN   \n",
       "3                                     NaN   \n",
       "4                                     NaN   \n",
       "\n",
       "   FU_L.santarosaiserovarPyrogenesstr.Salinem  \\\n",
       "0                                         NaN   \n",
       "1                                         NaN   \n",
       "2                                         NaN   \n",
       "3                                         NaN   \n",
       "4                                         NaN   \n",
       "\n",
       "   FU_L.interrogansserovarBataviaestr.VanTienan  \\\n",
       "0                                           NaN   \n",
       "1                                           NaN   \n",
       "2                                           NaN   \n",
       "3                                           NaN   \n",
       "4                                           NaN   \n",
       "\n",
       "   FU_L.interrogansserovarAlexistr.616  \\\n",
       "0                                  NaN   \n",
       "1                                  NaN   \n",
       "2                                  NaN   \n",
       "3                                  NaN   \n",
       "4                                  NaN   \n",
       "\n",
       "   FU_L.interrogansserovarAustralisstr.Ballico  \\\n",
       "0                                          NaN   \n",
       "1                                          NaN   \n",
       "2                                          NaN   \n",
       "3                                          NaN   \n",
       "4                                          NaN   \n",
       "\n",
       "   FU_L.interrogansserovarwolfiistr.3705  FU_L.interrogansserovarWeerasinghe  \\\n",
       "0                                    NaN                                 NaN   \n",
       "1                                    NaN                                 NaN   \n",
       "2                                    NaN                                 NaN   \n",
       "3                                    NaN                                 NaN   \n",
       "4                                    NaN                                 NaN   \n",
       "\n",
       "   FU_Patoc  Final  \n",
       "0       NaN      2  \n",
       "1       NaN      1  \n",
       "2       NaN      2  \n",
       "3       NaN      2  \n",
       "4       NaN      2  \n",
       "\n",
       "[5 rows x 806 columns]"
      ]
     },
     "execution_count": 1037,
     "metadata": {},
     "output_type": "execute_result"
    }
   ],
   "source": [
    "data.head()"
   ]
  },
  {
   "cell_type": "code",
   "execution_count": 1038,
   "id": "887837bf-3d74-4d10-8dd9-3ba38cfb2010",
   "metadata": {},
   "outputs": [
    {
     "data": {
      "text/plain": [
       "ID                                              0.000000\n",
       "Year                                            0.000000\n",
       "Month                                           0.000000\n",
       "Hospital                                        0.000000\n",
       "Sample                                          0.000000\n",
       "                                                 ...    \n",
       "FU_L.interrogansserovarAustralisstr.Ballico    91.204037\n",
       "FU_L.interrogansserovarwolfiistr.3705          91.204037\n",
       "FU_L.interrogansserovarWeerasinghe             91.204037\n",
       "FU_Patoc                                       91.204037\n",
       "Final                                           0.000000\n",
       "Length: 806, dtype: float64"
      ]
     },
     "execution_count": 1038,
     "metadata": {},
     "output_type": "execute_result"
    }
   ],
   "source": [
    "# Percentage of na values in columns\n",
    "data.isna().mean()*100"
   ]
  },
  {
   "cell_type": "code",
   "execution_count": 1039,
   "id": "74119cee-070f-4e7a-aa1f-8c19a57b78c7",
   "metadata": {},
   "outputs": [],
   "source": [
    "col_names = {'Muscletendernessonset': 'Mustenderonset', 'Muscletendernessad':'Mustenderad', 'Vomitingadmission':'Vomitingad','Cnsuffusionad':'Consufad','Cnsuffusiononset':'Consufonset', \n",
    "             'Mucosalrashonset':'Mucorashonset','Mucosalrashad':'Mucorashad', 'Diarrhoeaonset':'diarrheaonset','Diarrhoeaad':'diarrheaad', 'OliguriaAd':'Oliguriaad', 'Haemoptasisonset':'Haemoptysisonset','Haemoptasisad':'Haemoptysisad', \"SOBadd\": 'SOBad' }\n",
    "data.rename(columns = col_names, inplace=True)"
   ]
  },
  {
   "cell_type": "code",
   "execution_count": 1040,
   "id": "bb19b61d-5484-4b84-aa35-7f55d9ca50a6",
   "metadata": {},
   "outputs": [
    {
     "data": {
      "text/plain": [
       "(1387, 806)"
      ]
     },
     "execution_count": 1040,
     "metadata": {},
     "output_type": "execute_result"
    }
   ],
   "source": [
    "data.shape"
   ]
  },
  {
   "cell_type": "code",
   "execution_count": 1041,
   "id": "954c5b3c-5cc4-47d7-8279-80f5683d0a93",
   "metadata": {},
   "outputs": [],
   "source": [
    "colnames = ['Headache','Fever','Chills','Rigors','Musclepain','Mustender','Nausea','Vomiting','Consuf','Skinrash','Mucorash','Prostration','diarrhea','Oliguria','Anuria','Jaundice',\n",
    "            'Photophobia','Confusion','Cough','Haemoptysis','SOB','Chestpain','Bleeding']\n",
    "for col in colnames:\n",
    "  df = data[[col+'onset',col + '2',col + '3',col + '4',col + '5',col + '6',col + '7',col + '8',col + '9',col + '10', col + 'ad']]\n",
    "  df = df.replace(99, np.nan)\n",
    "  df['Days'] = None\n",
    "  for index, row in df.iterrows():\n",
    "    if df.loc[index].isna().all() == False:\n",
    "     df.at[index, 'Days'] = df.loc[index].eq(1).sum()\n",
    "    else:\n",
    "     df.at[index, 'Days'] = np.nan\n",
    "  data[col+'Days'] = df['Days']\n",
    "  data.drop([col+'onset',col + '2',col + '3',col + '4',col + '5',col + '6',col + '7',col + '8',col + '9',col + '10', col + 'ad'], axis=1, inplace=True)"
   ]
  },
  {
   "cell_type": "code",
   "execution_count": 1042,
   "id": "893ea595-6f70-4d99-a8b6-778cfaa83041",
   "metadata": {},
   "outputs": [
    {
     "data": {
      "text/plain": [
       "(1387, 576)"
      ]
     },
     "execution_count": 1042,
     "metadata": {},
     "output_type": "execute_result"
    }
   ],
   "source": [
    "data.shape"
   ]
  },
  {
   "cell_type": "code",
   "execution_count": 1043,
   "id": "e1aed7c7-40dd-4cca-8bb3-b82579e58c2d",
   "metadata": {},
   "outputs": [],
   "source": [
    "#'Psychoticsymptoms'\n",
    "col_names = {'Hepatictendernessad':'hepatictenderad', 'Hepatomegalyad':'hepatomegalyad', 'Spleenimegalyad':'Spleenomegalyad', 'Lympadenopathyad':'Lymphadenopathyad'}\n",
    "data.rename(columns = col_names, inplace=True)\n",
    "colnames = ['hepatictender','hepatomegaly','Spleenomegaly','Lymphadenopathy', 'Neckstiffness']\n",
    "for col in colnames:\n",
    "  df = data[[col + '2',col + '3',col + '4',col + '5',col + '6',col + '7',col + '8',col + '9',col + '10', col + 'ad']]\n",
    "  df = df.replace(99, np.nan)\n",
    "  df['Days'] = None\n",
    "  for index, row in df.iterrows():\n",
    "    if df.loc[index].isna().all() == False:\n",
    "     df.at[index, 'Days'] = df.loc[index].eq(1).sum()\n",
    "    else:\n",
    "     df.at[index, 'Days'] = np.nan\n",
    "  data[col+'Days'] = df['Days']\n",
    "  data.drop([col + '2',col + '3',col + '4',col + '5',col + '6',col + '7',col + '8',col + '9',col + '10', col + 'ad'], axis=1, inplace=True)"
   ]
  },
  {
   "cell_type": "code",
   "execution_count": 1044,
   "id": "e526a41c-227b-412e-9163-5819485bb227",
   "metadata": {},
   "outputs": [
    {
     "data": {
      "text/plain": [
       "(1387, 531)"
      ]
     },
     "execution_count": 1044,
     "metadata": {},
     "output_type": "execute_result"
    }
   ],
   "source": [
    "data.shape"
   ]
  },
  {
   "cell_type": "code",
   "execution_count": 1045,
   "id": "6e589ed4-4944-4757-a184-75614833a044",
   "metadata": {},
   "outputs": [],
   "source": [
    "missing_percentage = data.isna().mean() * 100\n",
    "\n",
    "# Determine columns to drop based on the threshold\n",
    "columns_to_drop_1 = missing_percentage[missing_percentage > 70].index\n",
    "\n",
    "# Drop columns with more than 70% missing values\n",
    "data = data.drop(columns_to_drop_1, axis=1)"
   ]
  },
  {
   "cell_type": "code",
   "execution_count": 1046,
   "id": "f1ec89d1-60d1-4f77-8c6f-d02732e1fd9b",
   "metadata": {},
   "outputs": [
    {
     "data": {
      "text/plain": [
       "(1387, 455)"
      ]
     },
     "execution_count": 1046,
     "metadata": {},
     "output_type": "execute_result"
    }
   ],
   "source": [
    "data.shape"
   ]
  },
  {
   "cell_type": "code",
   "execution_count": 1047,
   "id": "43feae34-3627-4ea6-8ac5-4c6bcb0087bc",
   "metadata": {},
   "outputs": [],
   "source": [
    "drop_cols = ['PRad','SBPadd','DBPadd','Pulserate2','Pulserate3','Pulserate4',\n",
    "             'Pulserate5','Pulserate6','Pulserate7','Pulserate8','Pulserate9',\n",
    "             'Pulserate10','SBP2','DBP2','SBP3','DBP3','SBP4','DBP4','SBP5',\n",
    "             'DBP5','SBP6','DBP6','SBP7','DBP7','SBP8','DBP8','SBP9','DBP9',\n",
    "             'SBP10','DBP10']\n",
    "# Cannot distinguish between actual 99 values and na 99 values\n",
    "data.drop(drop_cols, axis=1, inplace=True)"
   ]
  },
  {
   "cell_type": "code",
   "execution_count": 1048,
   "id": "7c521efe-e784-4e0c-b182-1ee8b5ea0f41",
   "metadata": {},
   "outputs": [
    {
     "data": {
      "text/plain": [
       "(1387, 425)"
      ]
     },
     "execution_count": 1048,
     "metadata": {},
     "output_type": "execute_result"
    }
   ],
   "source": [
    "data.shape"
   ]
  },
  {
   "cell_type": "code",
   "execution_count": 1049,
   "id": "bb2374f9-cf04-4823-8737-3148dc41acb1",
   "metadata": {},
   "outputs": [],
   "source": [
    "# Pus cells doesn't indicate any unsual case and there are na values for more than approximately 1000 cases. Hence those columns will be dropped.\n",
    "col = 'Puscells'\n",
    "colnames = ['Puscells', col + '2',col + '3',col + '4',col + '5',col + '6',col + '7',col + '8',col + '9',col + '10']\n",
    "data.drop(colnames, axis = 1, inplace = True)"
   ]
  },
  {
   "cell_type": "code",
   "execution_count": 1050,
   "id": "9de40b96-e473-4f2e-8137-aeff6b4ee012",
   "metadata": {},
   "outputs": [],
   "source": [
    "drop_cols = ['PulseRate','PulseRhythem','WBC_first_day','WBCCount1','ALP', 'Sphosphate', 'Samylase']\n",
    "# Cannot distinguish between actual 99 values and na 99 values\n",
    "data.drop(drop_cols, axis=1, inplace=True)"
   ]
  },
  {
   "cell_type": "code",
   "execution_count": 1051,
   "id": "b432ae81-a40e-4752-8555-721f90108396",
   "metadata": {},
   "outputs": [],
   "source": [
    "# ESR can take 99 so it cannot be distinguished between acutal 99 and na\n",
    "col = 'ESR'\n",
    "colnames = ['ESR', col + '2',col + '3',col + '4',col + '5',col + '6',col + '7',col + '8',col + '9',col + '10']\n",
    "data.drop(colnames, axis = 1, inplace = True)"
   ]
  },
  {
   "cell_type": "code",
   "execution_count": 1052,
   "id": "3b96885d-fe1f-4e7d-87ec-0f23ef24453b",
   "metadata": {},
   "outputs": [],
   "source": [
    "# Too many missing values\n",
    "data.drop(['Granularcast', 'Leucocytes'], axis = 1, inplace = True)"
   ]
  },
  {
   "cell_type": "code",
   "execution_count": 1053,
   "id": "ebd80d2e-dcf7-460c-90db-047364399010",
   "metadata": {},
   "outputs": [],
   "source": [
    "# ALT can take 99 so it cannot be distinguished between acutal 99 and na\n",
    "col = 'ALT'\n",
    "colnames = ['ALT', col + '2',col + '3',col + '4',col + '5',col + '6',col + '7',col + '8',col + '9',col + '10']\n",
    "data.drop(colnames, axis = 1, inplace = True)"
   ]
  },
  {
   "cell_type": "code",
   "execution_count": 1054,
   "id": "9eb8c8f4-71da-42b8-b923-874e7ed8d4b6",
   "metadata": {},
   "outputs": [],
   "source": [
    "# ESR can take 99 so it cannot be distinguished between acutal 99 and na\n",
    "col = 'GT'\n",
    "colnames = ['X.GT', col + '2',col + '3',col + '4',col + '5',col + '6',col + '7',col + '8',col + '9',col + '10']\n",
    "data.drop(colnames, axis = 1, inplace = True)\n",
    "\n",
    "# S.Cr\n",
    "col = 'S.Cr'\n",
    "colnames = ['S.creatinine', col + '2',col + '3',col + '4',col + '5',col + '6',col + '7',col + '8',col + '9',col + '10']\n",
    "data.drop(colnames, axis = 1, inplace = True)"
   ]
  },
  {
   "cell_type": "code",
   "execution_count": 1055,
   "id": "5713ec5b-acc5-4337-8af8-0e89223c0b24",
   "metadata": {},
   "outputs": [],
   "source": [
    "cols = ['S.amylase', 'S.phosphate','ALP']\n",
    "for col in cols:\n",
    "  colname = [col + '2',col + '3',col + '4',col + '5',col + '6',col + '7',col + '8',col + '9',col + '10']\n",
    "  data.drop(colname, axis = 1, inplace = True)\n"
   ]
  },
  {
   "cell_type": "code",
   "execution_count": 1056,
   "id": "1f687ec8-374b-4f95-b111-b521187fed7a",
   "metadata": {},
   "outputs": [],
   "source": [
    "col = 'B.Urea'\n",
    "colnames = ['B.urea', col + '2',col + '3',col + '4',col + '5',col + '6',col + '7',col + '8',col + '9',col + '10']\n",
    "data[colnames] = data[colnames].where(data[colnames] < 99, np.nan)\n"
   ]
  },
  {
   "cell_type": "code",
   "execution_count": 1057,
   "id": "e95893e3-e923-4635-9823-b4922a249f49",
   "metadata": {},
   "outputs": [
    {
     "data": {
      "text/plain": [
       "(1387, 339)"
      ]
     },
     "execution_count": 1057,
     "metadata": {},
     "output_type": "execute_result"
    }
   ],
   "source": [
    "data.shape"
   ]
  },
  {
   "cell_type": "code",
   "execution_count": 1058,
   "id": "518aa4a1-548a-4ad9-9e2b-81d6d312a1a3",
   "metadata": {},
   "outputs": [
    {
     "data": {
      "text/plain": [
       "Year                     0\n",
       "Month                    0\n",
       "Hospital                 0\n",
       "Sample                   0\n",
       "ICU                     83\n",
       "                      ... \n",
       "hepatictenderDays      405\n",
       "hepatomegalyDays       408\n",
       "SpleenomegalyDays      410\n",
       "LymphadenopathyDays    410\n",
       "NeckstiffnessDays      371\n",
       "Length: 338, dtype: int64"
      ]
     },
     "execution_count": 1058,
     "metadata": {},
     "output_type": "execute_result"
    }
   ],
   "source": [
    "data = data.drop('ID', axis=1)\n",
    "data = data.replace(99, np.nan)\n",
    "data.isna().sum()"
   ]
  },
  {
   "cell_type": "code",
   "execution_count": 1059,
   "id": "922fc5fa-6270-48d0-92e1-d819010b1556",
   "metadata": {},
   "outputs": [],
   "source": [
    "cols = ['HomeStreamrivercanaloranyotherrunningwatersource', \n",
    "        'WorkplaceStreamrivercanaloranyotherrunningwatersource',\n",
    "        'Homepondlaketankoranyotherstagnantwatersource',\n",
    "        'WorkPlacepondlaketankoranyotherstagnantwatersource']\n",
    "       \n",
    "anyWaterArea = data[cols]\n",
    "\n",
    "def water_area(row):\n",
    "    if row.isnull().all():\n",
    "        return pd.NA\n",
    "    elif (row == 1).any():\n",
    "        return 1\n",
    "    else:\n",
    "        return 2\n",
    "\n",
    "data['anyWaterArea'] = anyWaterArea.apply(water_area, axis=1)\n",
    "\n",
    "data.drop(cols, axis = 1, inplace = True)\n",
    "\n"
   ]
  },
  {
   "cell_type": "code",
   "execution_count": 1060,
   "id": "3ae0f8bb-a8f0-4b9e-b356-2e52f77a5ea5",
   "metadata": {},
   "outputs": [
    {
     "data": {
      "text/plain": [
       "(1387, 335)"
      ]
     },
     "execution_count": 1060,
     "metadata": {},
     "output_type": "execute_result"
    }
   ],
   "source": [
    "data.shape"
   ]
  },
  {
   "cell_type": "code",
   "execution_count": 1061,
   "id": "d9c90ee6-4c6b-4aaa-b4a7-7ccf7829ee6e",
   "metadata": {},
   "outputs": [],
   "source": [
    "animal = ['rat', 'cat', 'dog', 'cattle', 'pig', 'goat','other']\n",
    "#data.rename({'UrimeeyaNeighbourhood':'UrumeeyaNeighbourhood'}, inplace = True)\n",
    "\n",
    "lowercase_data = data.copy()\n",
    "lowercase_data.columns = lowercase_data.columns.str.lower()\n",
    "\n",
    "for col in animal:\n",
    "  data[col] = lowercase_data[col + 'home'] + lowercase_data[col + 'workplace'] + lowercase_data[col + 'neighbourhood']\n",
    "  \n",
    "data.drop(['Rathome','RatWorkplace','RatNeighbourhood','Cathome','Catworkplace',\n",
    "           'CatNeighbourhood','Doghome','DogWorkplace','DogNeighbourhood',\n",
    "           'Cattlehome','CattleWorkplace','CattleNeighbourhood','PigHome',\n",
    "           'PigWorkplace','PigNeighbourhood','GoatHome','GoatWorkplace','GoatNeighbourhood','OtherHome',\n",
    "           'OtherWorkplace','OtherNeighbourhood'], axis = 1, inplace = True)\n"
   ]
  },
  {
   "cell_type": "code",
   "execution_count": 1062,
   "id": "521a0178-7e6c-4d75-a3f2-094ec578722e",
   "metadata": {},
   "outputs": [
    {
     "data": {
      "text/plain": [
       "(1387, 321)"
      ]
     },
     "execution_count": 1062,
     "metadata": {},
     "output_type": "execute_result"
    }
   ],
   "source": [
    "data.shape"
   ]
  },
  {
   "cell_type": "code",
   "execution_count": 1063,
   "id": "59b9c730-62b7-4678-8e01-afaa935592c9",
   "metadata": {},
   "outputs": [],
   "source": [
    "# Diagnosis\n",
    "cols = ['WPqPCRDiagnosis','UrineqPCRDiagnosis','CultureqPCRDia','SerumqPCRDiagnosis','UFqPCRDiag']\n",
    "\n",
    "\n",
    "data['confirmed_diag'] = data[cols].eq(1).sum(axis=1)\n",
    "data['probable_diag'] = data[cols].eq(2).sum(axis=1)\n",
    "data['notdetected_diag'] = data[cols].eq(3).sum(axis=1)\n",
    "\n",
    "data.drop(['UrineqPCRDiagnosis','CultureqPCRDia','SerumqPCRDiagnosis','UFqPCRDiag'], axis = 1, inplace = True)"
   ]
  },
  {
   "cell_type": "code",
   "execution_count": 1064,
   "id": "2ef9d2e2-9556-45ad-b4c8-0e6b29e6f0cf",
   "metadata": {},
   "outputs": [
    {
     "data": {
      "text/plain": [
       "(1387, 320)"
      ]
     },
     "execution_count": 1064,
     "metadata": {},
     "output_type": "execute_result"
    }
   ],
   "source": [
    "data.shape"
   ]
  },
  {
   "cell_type": "code",
   "execution_count": 1065,
   "id": "8358ddea-179b-45fd-8cba-57809aa5e978",
   "metadata": {},
   "outputs": [],
   "source": [
    "data = data.rename(columns={'Workplacemarshywet':'Workplacemarshywetland', 'HomeBushes':'Homebushes', 'WorkPlaceworkingpaddyfield':'Workplaceworkingpaddyfield',\n",
    "                            'workplaceotheragricultural':'Workplaceotheragricultural'})\n",
    "\n",
    "cols = ['marshywetland','bushes','forest','workingpaddyfield','abondantpaddyfield',\n",
    "        'otheragricultural','animalfarm','garbageaccumilation','blockeddrainage','sewer']\n",
    "\n",
    "def outcome(row):\n",
    "    if row.isnull().all():\n",
    "        return np.nan\n",
    "    elif (row == 1).any():\n",
    "        return 1\n",
    "    else:\n",
    "        return 2\n",
    "\n",
    "for col in cols:\n",
    "  df = data[['Home' + col, 'Workplace' + col]]\n",
    "  data['any' + col] = df.apply(outcome, axis=1)\n",
    "  data.drop(['Home' + col, 'Workplace' + col], axis = 1, inplace = True)"
   ]
  },
  {
   "cell_type": "code",
   "execution_count": 1066,
   "id": "1bfd87ba-5035-4109-897d-f5d478ebf3fc",
   "metadata": {},
   "outputs": [
    {
     "data": {
      "text/plain": [
       "(1387, 310)"
      ]
     },
     "execution_count": 1066,
     "metadata": {},
     "output_type": "execute_result"
    }
   ],
   "source": [
    "data.shape"
   ]
  },
  {
   "cell_type": "code",
   "execution_count": 1067,
   "id": "7e99c182-1c02-4593-a8a0-fab5a3c2d21f",
   "metadata": {},
   "outputs": [],
   "source": [
    "data['urumeeya'] = data['Urumeeyahome'] + data['Urumeeyaworkplace'] + data['UrimeeyaNeighbourhood']\n",
    "data['otherRhodents'] = data['OtherrhodentsHome'] + data['OtherRhoddentsWorkplace'] + data['OtherRhodentsNeighbourhood']\n",
    "\n",
    "data.drop(['UrimeeyaNeighbourhood','Urumeeyahome','Urumeeyaworkplace', 'OtherrhodentsHome', 'OtherRhoddentsWorkplace', 'OtherRhodentsNeighbourhood'], axis = 1, inplace=True)"
   ]
  },
  {
   "cell_type": "code",
   "execution_count": 1068,
   "id": "d2a9ac6c-a708-490e-a6a4-015991f63e64",
   "metadata": {},
   "outputs": [
    {
     "data": {
      "text/plain": [
       "(1387, 306)"
      ]
     },
     "execution_count": 1068,
     "metadata": {},
     "output_type": "execute_result"
    }
   ],
   "source": [
    "data.shape"
   ]
  },
  {
   "cell_type": "code",
   "execution_count": 1069,
   "id": "f4f5debd-6f00-47db-9333-0c1c703ca664",
   "metadata": {},
   "outputs": [],
   "source": [
    "data['Isolate'] = data['Isolate'].replace(98, np.nan)"
   ]
  },
  {
   "cell_type": "code",
   "execution_count": 1070,
   "id": "cf0ee3d3-5243-4d51-ac91-a3ef637b0bc9",
   "metadata": {},
   "outputs": [
    {
     "data": {
      "text/plain": [
       "(1387, 306)"
      ]
     },
     "execution_count": 1070,
     "metadata": {},
     "output_type": "execute_result"
    }
   ],
   "source": [
    "data.shape"
   ]
  },
  {
   "cell_type": "code",
   "execution_count": 1071,
   "id": "71ab8b57-23f4-4d31-8877-8e30093aa249",
   "metadata": {},
   "outputs": [],
   "source": [
    "missing_percentage = data.isna().mean() * 100\n",
    "\n",
    "# Determine columns to drop based on the threshold\n",
    "columns_to_drop_2 = missing_percentage[missing_percentage > 80].index\n",
    "\n",
    "# Drop columns with more than 70% missing values\n",
    "data = data.drop(columns_to_drop_2, axis=1)\n"
   ]
  },
  {
   "cell_type": "code",
   "execution_count": 1072,
   "id": "fd9bdf5d-0613-469a-84c8-f59eb67dd3bb",
   "metadata": {},
   "outputs": [
    {
     "data": {
      "text/plain": [
       "(1387, 146)"
      ]
     },
     "execution_count": 1072,
     "metadata": {},
     "output_type": "execute_result"
    }
   ],
   "source": [
    "data.shape"
   ]
  },
  {
   "cell_type": "code",
   "execution_count": 1073,
   "id": "f8ef18cf-99a6-4861-8371-f48e75999ff9",
   "metadata": {},
   "outputs": [],
   "source": [
    "# Assuming data is your DataFrame\n",
    "data = data.replace('[a-zA-Z]+', np.nan, regex=True)\n",
    "data = data.replace(' ', np.nan)\n",
    "data = data.fillna(99)  # Replace missing values with 0\n",
    "data = data.astype(np.float64).astype(int)\n",
    "data = data.astype(int)\n",
    "data[data == 99] = pd.NA"
   ]
  },
  {
   "cell_type": "code",
   "execution_count": 1074,
   "id": "6b2175ae-5f03-4daf-8502-5af0578a7e84",
   "metadata": {},
   "outputs": [
    {
     "data": {
      "text/plain": [
       "(1387, 146)"
      ]
     },
     "execution_count": 1074,
     "metadata": {},
     "output_type": "execute_result"
    }
   ],
   "source": [
    "data.shape"
   ]
  },
  {
   "cell_type": "code",
   "execution_count": 1075,
   "id": "16302e3b-206b-4757-b0f9-ebe661725326",
   "metadata": {},
   "outputs": [],
   "source": [
    "data = data.astype('Int64')"
   ]
  },
  {
   "cell_type": "code",
   "execution_count": 1076,
   "id": "9f4ed715-49a7-4f56-91b4-27f0585b7b72",
   "metadata": {},
   "outputs": [
    {
     "name": "stdout",
     "output_type": "stream",
     "text": [
      "<class 'pandas.core.frame.DataFrame'>\n",
      "RangeIndex: 1387 entries, 0 to 1386\n",
      "Columns: 146 entries, Year to urumeeya\n",
      "dtypes: Int64(146)\n",
      "memory usage: 1.7 MB\n"
     ]
    }
   ],
   "source": [
    "data.info()"
   ]
  },
  {
   "cell_type": "code",
   "execution_count": 1077,
   "id": "46d36782-c3e9-48a2-a6d4-34c65ae1ec46",
   "metadata": {},
   "outputs": [
    {
     "data": {
      "text/plain": [
       "(1387, 146)"
      ]
     },
     "execution_count": 1077,
     "metadata": {},
     "output_type": "execute_result"
    }
   ],
   "source": [
    "data.shape"
   ]
  },
  {
   "cell_type": "code",
   "execution_count": 1078,
   "id": "8363e609-1ea6-43ab-9763-42492d175f24",
   "metadata": {},
   "outputs": [],
   "source": [
    "cat_columns_to_convert = ['Year','Month','Hospital','Sample','ICU','OPD','Sex',\n",
    "                          'Ethnicity','Education','TertiaryEducation','Prophylactics',\n",
    "                          'Pasttreatments','Pastantibiotics','Chronicillness',\n",
    "                          'Possibleexposure','Psychoticsymptomsonset','Psychoticsymptomsad',\n",
    "                          'WPqPCRDiagnosis','Isolate','MAT_set_1','Final']\n",
    "\n",
    "data[cat_columns_to_convert] = data[cat_columns_to_convert].astype('Int64')\n",
    "data[cat_columns_to_convert] = data[cat_columns_to_convert].astype('category')\n",
    "\n",
    "num_columns_to_convert  = data.columns[data.columns.get_loc('WBCcount'):]\n",
    "\n",
    "data[num_columns_to_convert] = data[num_columns_to_convert].astype('Int64')"
   ]
  },
  {
   "cell_type": "code",
   "execution_count": 1079,
   "id": "d803e04e-123f-4f56-9c79-9d946084336b",
   "metadata": {},
   "outputs": [
    {
     "data": {
      "text/plain": [
       "(1387, 146)"
      ]
     },
     "execution_count": 1079,
     "metadata": {},
     "output_type": "execute_result"
    }
   ],
   "source": [
    "data.shape"
   ]
  },
  {
   "cell_type": "code",
   "execution_count": 1080,
   "id": "39e2dccd-dcc5-408e-8b93-42d92b6214a8",
   "metadata": {},
   "outputs": [
    {
     "name": "stdout",
     "output_type": "stream",
     "text": [
      "<class 'pandas.core.frame.DataFrame'>\n",
      "RangeIndex: 1387 entries, 0 to 1386\n",
      "Columns: 146 entries, Year to urumeeya\n",
      "dtypes: Int64(129), category(17)\n",
      "memory usage: 1.6 MB\n"
     ]
    }
   ],
   "source": [
    "data.info()"
   ]
  },
  {
   "cell_type": "code",
   "execution_count": 1081,
   "id": "57730790-3646-4ddc-9314-3d7dcff0a45b",
   "metadata": {},
   "outputs": [],
   "source": [
    "data2=data"
   ]
  },
  {
   "cell_type": "code",
   "execution_count": 1082,
   "id": "7cee2d9d-ede4-4137-a9da-208f816e0f1b",
   "metadata": {},
   "outputs": [
    {
     "data": {
      "text/plain": [
       "(1387, 146)"
      ]
     },
     "execution_count": 1082,
     "metadata": {},
     "output_type": "execute_result"
    }
   ],
   "source": [
    "data2.shape"
   ]
  },
  {
   "cell_type": "code",
   "execution_count": 1083,
   "id": "bd215bf0-85cc-4ff6-ab56-5293d04ca874",
   "metadata": {},
   "outputs": [],
   "source": [
    "data2.drop(data2.columns[3], axis=1, inplace=True)"
   ]
  },
  {
   "cell_type": "code",
   "execution_count": 1084,
   "id": "54147ce3-aa95-40c7-a94c-418443caf5ff",
   "metadata": {},
   "outputs": [
    {
     "data": {
      "text/plain": [
       "Year                         0\n",
       "Month                        0\n",
       "Hospital                     0\n",
       "ICU                         83\n",
       "OPD                         83\n",
       "                          ... \n",
       "anyanimalfarm              977\n",
       "anygarbageaccumilation     978\n",
       "anyblockeddrainage         980\n",
       "anysewer                   991\n",
       "urumeeya                  1075\n",
       "Length: 145, dtype: int64"
      ]
     },
     "execution_count": 1084,
     "metadata": {},
     "output_type": "execute_result"
    }
   ],
   "source": [
    "data2.isna().sum()"
   ]
  },
  {
   "cell_type": "code",
   "execution_count": 1085,
   "id": "b1942f4f-ad66-4a06-8c0a-14c5eaae8ccf",
   "metadata": {},
   "outputs": [
    {
     "name": "stdout",
     "output_type": "stream",
     "text": [
      "Index(['ICU', 'OPD', 'Sex', 'Age', 'Ethnicity', 'Income', 'Education',\n",
      "       'TertiaryEducation', 'Prophylactics', 'Pasttreatments',\n",
      "       ...\n",
      "       'anybushes', 'anyforest', 'anyworkingpaddyfield',\n",
      "       'anyabondantpaddyfield', 'anyotheragricultural', 'anyanimalfarm',\n",
      "       'anygarbageaccumilation', 'anyblockeddrainage', 'anysewer', 'urumeeya'],\n",
      "      dtype='object', length=138)\n"
     ]
    }
   ],
   "source": [
    "columns_with_missing_values = data.columns[data.isna().any()]\n",
    "\n",
    "print(columns_with_missing_values)\n"
   ]
  },
  {
   "cell_type": "code",
   "execution_count": 1086,
   "id": "1622550f-3f77-4602-8cd7-afbb63e83d78",
   "metadata": {},
   "outputs": [],
   "source": [
    "impute_train= data.copy()\n",
    "\n",
    "impute_train = impute_train.fillna(impute_train.mode().iloc[0])\n"
   ]
  },
  {
   "cell_type": "code",
   "execution_count": 1087,
   "id": "2683b3bb-8823-4edc-a19d-5c574ac09d94",
   "metadata": {},
   "outputs": [
    {
     "name": "stdout",
     "output_type": "stream",
     "text": [
      "Index([], dtype='object')\n"
     ]
    }
   ],
   "source": [
    "columns_with_missing_values = impute_train.columns[impute_train.isna().any()]\n",
    "\n",
    "print(columns_with_missing_values)\n"
   ]
  },
  {
   "cell_type": "code",
   "execution_count": 1088,
   "id": "0f9c59b9-d193-44f2-a583-5a79d6813dc1",
   "metadata": {},
   "outputs": [
    {
     "data": {
      "text/plain": [
       "Year                      0\n",
       "Month                     0\n",
       "Hospital                  0\n",
       "ICU                       0\n",
       "OPD                       0\n",
       "                         ..\n",
       "anyanimalfarm             0\n",
       "anygarbageaccumilation    0\n",
       "anyblockeddrainage        0\n",
       "anysewer                  0\n",
       "urumeeya                  0\n",
       "Length: 145, dtype: int64"
      ]
     },
     "execution_count": 1088,
     "metadata": {},
     "output_type": "execute_result"
    }
   ],
   "source": [
    "impute_train.isna().sum()"
   ]
  },
  {
   "cell_type": "code",
   "execution_count": 1089,
   "id": "7eef1cab-4445-4afb-8169-29dc5e8c9c90",
   "metadata": {},
   "outputs": [],
   "source": [
    "# impute_train.info(all)"
   ]
  },
  {
   "cell_type": "code",
   "execution_count": 1090,
   "id": "d29cfe91-390e-4c26-9ca9-17829f113229",
   "metadata": {},
   "outputs": [],
   "source": [
    "imp_data2=impute_train"
   ]
  },
  {
   "cell_type": "code",
   "execution_count": 1091,
   "id": "79438df5-7dbc-4b64-9a28-ebc47e4531b6",
   "metadata": {},
   "outputs": [],
   "source": [
    "from sklearn.linear_model import LogisticRegression\n",
    "from sklearn.preprocessing import OneHotEncoder, StandardScaler\n",
    "from sklearn.compose import ColumnTransformer\n",
    "from sklearn.pipeline import Pipeline\n",
    "from sklearn.impute import SimpleImputer\n",
    "from sklearn.model_selection import train_test_split\n",
    "\n",
    "X = imp_data2.drop('Final', axis = 1)\n",
    "y = imp_data2['Final']\n",
    "\n",
    "# Splitting the data\n",
    "X_train, X_test, y_train, y_test = train_test_split(X, y, test_size=0.2, random_state=42)\n",
    "\n",
    "\n",
    "categorical_cols = X.select_dtypes(include='category').columns.tolist()\n",
    "numeric_cols = X.select_dtypes(include=['Int64', 'float64']).columns.tolist()\n",
    "\n",
    "preprocessor = ColumnTransformer(\n",
    "    transformers=[\n",
    "        ('cat', OneHotEncoder(handle_unknown='ignore'), categorical_cols),\n",
    "        ('num', StandardScaler(), numeric_cols)\n",
    "    ])\n",
    "\n"
   ]
  },
  {
   "cell_type": "markdown",
   "id": "7bf878cd-db37-4156-a179-1aced5c8ec71",
   "metadata": {},
   "source": [
    "# Logistic regression model"
   ]
  },
  {
   "cell_type": "code",
   "execution_count": 1093,
   "id": "0d25dc66-91a7-455f-b125-c1f384e309a1",
   "metadata": {},
   "outputs": [
    {
     "name": "stdout",
     "output_type": "stream",
     "text": [
      "Accuracy: 0.9172661870503597\n"
     ]
    }
   ],
   "source": [
    "\n",
    "logistic_model = Pipeline(steps=[\n",
    "    ('preprocessor', preprocessor),\n",
    "    ('classifier', LogisticRegression(max_iter=1000))\n",
    "])\n",
    "\n",
    "\n",
    "\n",
    "from sklearn.preprocessing import LabelEncoder\n",
    "\n",
    "label_encoder = LabelEncoder()\n",
    "y_encoded = label_encoder.fit_transform(y)\n",
    "y_train_encoded = label_encoder.fit_transform(y_train)\n",
    "y_test_encoded = label_encoder.transform(y_test)\n",
    "\n",
    "\n",
    "# Fit the model on the training data\n",
    "logistic_model.fit(X_train, y_train_encoded)\n",
    "\n",
    "# Evaluate the model on the test data\n",
    "accuracy = logistic_model.score(X_test, y_test_encoded)\n",
    "print(\"Accuracy:\", accuracy)"
   ]
  },
  {
   "cell_type": "markdown",
   "id": "44c728a0-1078-42c8-9bd4-1db10c313ca7",
   "metadata": {},
   "source": [
    "### 1- Ridge regularization (Logistic regression model with L2 penalty)"
   ]
  },
  {
   "cell_type": "code",
   "execution_count": 1094,
   "id": "65107c81-5441-4f6c-aab7-b4f2f21b95c2",
   "metadata": {},
   "outputs": [
    {
     "name": "stdout",
     "output_type": "stream",
     "text": [
      "Accuracy: 0.9172661870503597\n"
     ]
    }
   ],
   "source": [
    "# Logistic regression model with Ridge regularization (L2 penalty)\n",
    "ridge_model = Pipeline(steps=[\n",
    "    ('preprocessor', preprocessor),\n",
    "    ('classifier', LogisticRegression(penalty='l2', solver='lbfgs', max_iter=2000))\n",
    "])\n",
    "\n",
    "# Fit the model on the training data\n",
    "ridge_model.fit(X_train, y_train_encoded)\n",
    "\n",
    "# Evaluate the model on the test data\n",
    "accuracy = ridge_model.score(X_test, y_test_encoded)\n",
    "print(\"Accuracy:\", accuracy)"
   ]
  },
  {
   "cell_type": "markdown",
   "id": "10f01451-2480-4cfb-bccd-d55fbfdf30ee",
   "metadata": {},
   "source": [
    "### 2-Lasso regularization (L1 penalty)"
   ]
  },
  {
   "cell_type": "code",
   "execution_count": 907,
   "id": "00c5b34e-3848-4152-95ea-5a485a6d2d79",
   "metadata": {},
   "outputs": [
    {
     "name": "stdout",
     "output_type": "stream",
     "text": [
      "Accuracy: 0.920863309352518\n"
     ]
    }
   ],
   "source": [
    "# Logistic regression model with Lasso regularization (L1 penalty)\n",
    "lasso_model = Pipeline(steps=[\n",
    "    ('preprocessor', preprocessor),\n",
    "    ('classifier', LogisticRegression(penalty='l1', solver='liblinear'))\n",
    "])\n",
    "\n",
    "# Fit the model on the training data\n",
    "lasso_model.fit(X_train, y_train_encoded)\n",
    "\n",
    "# Evaluate the model on the test data\n",
    "accuracy = lasso_model.score(X_test, y_test_encoded)\n",
    "print(\"Accuracy:\", accuracy)"
   ]
  },
  {
   "cell_type": "markdown",
   "id": "8db9753b-87aa-42d2-b0f0-b79e99d20eb8",
   "metadata": {},
   "source": [
    "# 3-RF"
   ]
  },
  {
   "cell_type": "code",
   "execution_count": 908,
   "id": "85484175-0064-4db9-9275-08b33c27bdfa",
   "metadata": {},
   "outputs": [
    {
     "name": "stdout",
     "output_type": "stream",
     "text": [
      "Accuracy: 0.9244604316546763\n"
     ]
    }
   ],
   "source": [
    "from sklearn.ensemble import RandomForestClassifier\n",
    "\n",
    "# Random Forest classifier\n",
    "rf_classifier = Pipeline(steps=[\n",
    "    ('preprocessor', preprocessor),\n",
    "    ('classifier', RandomForestClassifier(n_estimators=100, random_state=42))\n",
    "])\n",
    " \n",
    "# Fit the model on the training data\n",
    "rf_classifier.fit(X_train, y_train_encoded)\n",
    "\n",
    "# Evaluate the model (optional)\n",
    "accuracy =rf_classifier.score(X_test, y_test_encoded)\n",
    "print(\"Accuracy:\", accuracy)\n"
   ]
  },
  {
   "cell_type": "markdown",
   "id": "fc284907-4afe-430b-9a60-691ba4bb8cf4",
   "metadata": {},
   "source": [
    " # 4- Decision tree"
   ]
  },
  {
   "cell_type": "code",
   "execution_count": 132,
   "id": "f31d50dc-2e0e-4d00-b633-50c4d987b052",
   "metadata": {},
   "outputs": [
    {
     "name": "stdout",
     "output_type": "stream",
     "text": [
      "Accuracy: 0.8776978417266187\n"
     ]
    }
   ],
   "source": [
    "from sklearn.model_selection import GridSearchCV\n",
    "from sklearn.tree import DecisionTreeClassifier\n",
    "\n",
    "# Create a pipeline with the Decision Tree classifier\n",
    "decision_tree = Pipeline(steps=[\n",
    "    ('preprocessor', preprocessor),\n",
    "    ('classifier', DecisionTreeClassifier(random_state=42))\n",
    "\n",
    "    \n",
    "])\n",
    "# Fit the model on the training data\n",
    "decision_tree.fit(X_train, y_train_encoded)\n",
    "\n",
    "# Evaluate the model (optional)\n",
    "accuracy =decision_tree.score(X_test, y_test_encoded)\n",
    "print(\"Accuracy:\", accuracy)\n",
    "\n"
   ]
  },
  {
   "cell_type": "markdown",
   "id": "b3274ce5-178c-4ef0-993e-37c1601717ea",
   "metadata": {},
   "source": [
    "# 5- SVM"
   ]
  },
  {
   "cell_type": "code",
   "execution_count": 133,
   "id": "083408fa-0561-46b9-9aff-bd428e4d8d64",
   "metadata": {},
   "outputs": [
    {
     "name": "stdout",
     "output_type": "stream",
     "text": [
      "Accuracy: 0.8992805755395683\n"
     ]
    }
   ],
   "source": [
    "from sklearn.svm import SVC\n",
    "\n",
    "# Create a pipeline with preprocessing and the SVM classifier\n",
    "svm = Pipeline([\n",
    "    ('preprocessor', preprocessor),\n",
    "    ('classifier', SVC(kernel='linear', random_state=42))\n",
    "])\n",
    "\n",
    "# Fit the pipeline on the training data\n",
    "svm.fit(X_train, y_train_encoded)\n",
    "\n",
    "# Calculate the accuracy\n",
    "accuracy = svm.score(X_test, y_test_encoded)\n",
    "print(\"Accuracy:\", accuracy)"
   ]
  },
  {
   "cell_type": "markdown",
   "id": "f603ed09-1452-4716-ad03-dcab6fecfea6",
   "metadata": {},
   "source": [
    "# 6- MLP"
   ]
  },
  {
   "cell_type": "code",
   "execution_count": 134,
   "id": "e18832b4-11c7-44b5-8ac2-42605c8edd48",
   "metadata": {},
   "outputs": [
    {
     "name": "stdout",
     "output_type": "stream",
     "text": [
      "Accuracy: 0.8884892086330936\n"
     ]
    }
   ],
   "source": [
    "from sklearn.neural_network import MLPClassifier\n",
    "from sklearn.pipeline import Pipeline\n",
    "\n",
    "# Create a pipeline \n",
    "mlp = Pipeline([\n",
    "    ('preprocessor', preprocessor),\n",
    "    ('classifier', MLPClassifier(hidden_layer_sizes=(100,), max_iter=300, random_state=42))\n",
    "])\n",
    "\n",
    "# Fit  on the training data\n",
    "mlp.fit(X_train, y_train_encoded)\n",
    "\n",
    "#  the accuracy\n",
    "accuracy = mlp.score(X_test, y_test_encoded)\n",
    "print(\"Accuracy:\", accuracy)\n"
   ]
  },
  {
   "cell_type": "markdown",
   "id": "9a2ae52e-cfb7-40d8-b487-b97a25e03083",
   "metadata": {},
   "source": [
    "# 7- Naive Bias"
   ]
  },
  {
   "cell_type": "code",
   "execution_count": 135,
   "id": "a29e22fd-c1a3-4ff6-9c32-9fb8ac32bec3",
   "metadata": {},
   "outputs": [
    {
     "name": "stdout",
     "output_type": "stream",
     "text": [
      "Accuracy: 0.89568345323741\n"
     ]
    }
   ],
   "source": [
    "from sklearn.naive_bayes import GaussianNB\n",
    "from sklearn.pipeline import Pipeline\n",
    "\n",
    "# Create a pipeline \n",
    "naive_bayes = Pipeline([\n",
    "    ('preprocessor', preprocessor),\n",
    "    ('classifier', GaussianNB())\n",
    "])\n",
    "\n",
    "# Fit model on the training data\n",
    "naive_bayes.fit(X_train, y_train_encoded)\n",
    "\n",
    "# Calculate the accuracy\n",
    "accuracy = naive_bayes.score(X_test, y_test_encoded)\n",
    "print(\"Accuracy:\", accuracy)\n"
   ]
  },
  {
   "cell_type": "markdown",
   "id": "42e12537-8396-4a7f-9caa-cfb280dc273e",
   "metadata": {},
   "source": [
    "# 8-XGB"
   ]
  },
  {
   "cell_type": "code",
   "execution_count": 136,
   "id": "d0158d78-46a7-464b-bff8-644a10f7e4bc",
   "metadata": {},
   "outputs": [
    {
     "name": "stdout",
     "output_type": "stream",
     "text": [
      "Accuracy: 0.9100719424460432\n"
     ]
    }
   ],
   "source": [
    "from xgboost import XGBClassifier\n",
    "from sklearn.pipeline import Pipeline\n",
    "\n",
    "\n",
    "xgb = Pipeline([\n",
    "    ('preprocessor', preprocessor),\n",
    "    ('classifier', XGBClassifier(random_state=42, use_label_encoder=False, eval_metric='logloss'))\n",
    "])\n",
    "\n",
    "\n",
    "xgb.fit(X_train, y_train_encoded)\n",
    "\n",
    "\n",
    "accuracy = xgb.score(X_test, y_test_encoded)\n",
    "print(\"Accuracy:\", accuracy)\n"
   ]
  },
  {
   "cell_type": "markdown",
   "id": "1feaba2b-d1e4-4b83-a1c4-93434b8b60d5",
   "metadata": {},
   "source": [
    "## 9- GB"
   ]
  },
  {
   "cell_type": "code",
   "execution_count": 137,
   "id": "e960dc85-4fa3-4963-a296-a3a92924f572",
   "metadata": {},
   "outputs": [
    {
     "name": "stdout",
     "output_type": "stream",
     "text": [
      "Accuracy: 0.9172661870503597\n"
     ]
    }
   ],
   "source": [
    "from sklearn.ensemble import GradientBoostingClassifier\n",
    "from sklearn.pipeline import Pipeline\n",
    "\n",
    "gb = Pipeline([\n",
    "    ('preprocessor', preprocessor),\n",
    "    ('classifier', GradientBoostingClassifier(random_state=42))\n",
    "])\n",
    "\n",
    "\n",
    "gb.fit(X_train, y_train_encoded)\n",
    "\n",
    "\n",
    "accuracy = gb.score(X_test, y_test_encoded)\n",
    "print(\"Accuracy:\", accuracy)\n"
   ]
  },
  {
   "cell_type": "markdown",
   "id": "1ded6c5a-f779-42d5-98a7-12e14f801ec2",
   "metadata": {},
   "source": [
    "## 10- ADA"
   ]
  },
  {
   "cell_type": "code",
   "execution_count": 138,
   "id": "dd1d4531-2b28-4316-b293-9c613c62847e",
   "metadata": {},
   "outputs": [
    {
     "name": "stdout",
     "output_type": "stream",
     "text": [
      "Accuracy: 0.9172661870503597\n"
     ]
    }
   ],
   "source": [
    "from sklearn.ensemble import GradientBoostingClassifier\n",
    "from sklearn.pipeline import Pipeline\n",
    "\n",
    "\n",
    "gb = Pipeline([\n",
    "    ('preprocessor', preprocessor),\n",
    "    ('classifier', GradientBoostingClassifier(random_state=42))\n",
    "])\n",
    "\n",
    "\n",
    "gb.fit(X_train, y_train_encoded)\n",
    "\n",
    "\n",
    "accuracy = gb.score(X_test, y_test_encoded)\n",
    "print(\"Accuracy:\", accuracy)\n"
   ]
  },
  {
   "cell_type": "markdown",
   "id": "8b1d7cd4-a735-4d85-b8e3-de9e2c5f2fd7",
   "metadata": {},
   "source": [
    "# With hyper parameter Tuning"
   ]
  },
  {
   "cell_type": "markdown",
   "id": "cbfc9b66-ead1-426c-b367-06cdc297be03",
   "metadata": {},
   "source": [
    "# Logistic regression"
   ]
  },
  {
   "cell_type": "code",
   "execution_count": 139,
   "id": "1a548255-6c61-4cf7-8499-c5cd29026b2a",
   "metadata": {},
   "outputs": [
    {
     "name": "stdout",
     "output_type": "stream",
     "text": [
      "Logistic Regression Best Parameters: {'classifier__C': 0.1, 'classifier__max_iter': 100, 'classifier__penalty': 'l1', 'classifier__solver': 'liblinear'}\n",
      "Logistic Regression Best Cross-Validation Accuracy: 0.9323794382617911\n",
      "Logistic Regression Test Accuracy: 0.920863309352518\n"
     ]
    }
   ],
   "source": [
    "\n",
    "logistic_pipeline = Pipeline(steps=[\n",
    "    ('preprocessor', preprocessor),\n",
    "    ('classifier', LogisticRegression(max_iter=1000))\n",
    "])\n",
    "\n",
    "# Set up the hyperparameter\n",
    "logistic_param_grid = {\n",
    "    'classifier__C': [0.01, 0.1, 1, 10, 100],\n",
    "    'classifier__solver': ['liblinear', 'lbfgs'],\n",
    "    'classifier__penalty': ['l1', 'l2'],\n",
    "    'classifier__max_iter': [100, 500, 1000]\n",
    "}\n",
    "\n",
    "# Use GridSearchCV to search for the best parameters \n",
    "logistic_grid_search = GridSearchCV(estimator=logistic_pipeline, param_grid=logistic_param_grid, cv=5, scoring='accuracy', n_jobs=-1)\n",
    "\n",
    "# Fit the model \n",
    "logistic_grid_search.fit(X_train, y_train_encoded)\n",
    "\n",
    "# Get the best parameters \n",
    "logistic_best_params = logistic_grid_search.best_params_\n",
    "logistic_best_accuracy = logistic_grid_search.best_score_\n",
    "\n",
    "\n",
    "logistic_test_accuracy = logistic_grid_search.score(X_test, y_test_encoded)\n",
    "\n",
    "print(\"Logistic Regression Best Parameters:\", logistic_best_params)\n",
    "print(\"Logistic Regression Best Cross-Validation Accuracy:\", logistic_best_accuracy)\n",
    "print(\"Logistic Regression Test Accuracy:\", logistic_test_accuracy)"
   ]
  },
  {
   "cell_type": "markdown",
   "id": "faec3557-4bc8-407c-a9bb-ae961f66770a",
   "metadata": {},
   "source": [
    "# Ridge"
   ]
  },
  {
   "cell_type": "code",
   "execution_count": 141,
   "id": "67ef9aaa-82d8-4a02-9257-a09c65b42bd8",
   "metadata": {},
   "outputs": [
    {
     "name": "stdout",
     "output_type": "stream",
     "text": [
      "Ridge Logistic Regression Best Parameters: {'classifier__C': 0.01, 'classifier__max_iter': 1000}\n",
      "Ridge Logistic Regression Best Cross-Validation Accuracy: 0.9170518935224818\n",
      "Ridge Logistic Regression Test Accuracy: 0.9028776978417267\n"
     ]
    }
   ],
   "source": [
    "from sklearn.linear_model import LogisticRegression\n",
    "from sklearn.pipeline import Pipeline\n",
    "from sklearn.model_selection import GridSearchCV\n",
    "\n",
    "# Define the pipeline\n",
    "ridge_pipeline = Pipeline(steps=[\n",
    "    ('preprocessor', preprocessor),\n",
    "    ('classifier', LogisticRegression(penalty='l2', solver='lbfgs', max_iter=2000))\n",
    "])\n",
    "\n",
    "# Set up the hyperparameter grid for tuning\n",
    "ridge_param_grid = {\n",
    "    'classifier__C': [0.01, 0.1, 1, 10, 100],\n",
    "    'classifier__max_iter': [1000, 2000]\n",
    "}\n",
    "\n",
    "# Use GridSearchCV to search for the best parameters\n",
    "ridge_grid_search = GridSearchCV(estimator=ridge_pipeline, param_grid=ridge_param_grid, cv=5, scoring='accuracy', n_jobs=-1)\n",
    "\n",
    "# Fit the model using the best parameters\n",
    "ridge_grid_search.fit(X_train, y_train_encoded)\n",
    "\n",
    "# Get the best parameters and best accuracy score for Ridge logistic regression\n",
    "ridge_best_params = ridge_grid_search.best_params_\n",
    "ridge_best_accuracy = ridge_grid_search.best_score_\n",
    "ridge_test_accuracy = ridge_grid_search.score(X_test, y_test_encoded)\n",
    "\n",
    "print(\"Ridge Logistic Regression Best Parameters:\", ridge_best_params)\n",
    "print(\"Ridge Logistic Regression Best Cross-Validation Accuracy:\", ridge_best_accuracy)\n",
    "print(\"Ridge Logistic Regression Test Accuracy:\", ridge_test_accuracy)\n"
   ]
  },
  {
   "cell_type": "markdown",
   "id": "d32aaad9-4154-43a3-9bfe-26ac550e39d9",
   "metadata": {},
   "source": [
    "# Lasso"
   ]
  },
  {
   "cell_type": "code",
   "execution_count": 143,
   "id": "b0e6abb2-a747-4260-b46a-88c6baedf0bd",
   "metadata": {},
   "outputs": [
    {
     "name": "stdout",
     "output_type": "stream",
     "text": [
      "Lasso Logistic Regression Best Parameters: {'classifier__C': 0.1, 'classifier__max_iter': 1000}\n",
      "Lasso Logistic Regression Best Cross-Validation Accuracy: 0.9323794382617911\n",
      "Lasso Logistic Regression Test Accuracy: 0.920863309352518\n"
     ]
    }
   ],
   "source": [
    "from sklearn.linear_model import LogisticRegression\n",
    "from sklearn.pipeline import Pipeline\n",
    "from sklearn.model_selection import GridSearchCV\n",
    "\n",
    "\n",
    "lasso_pipeline = Pipeline(steps=[\n",
    "    ('preprocessor', preprocessor),\n",
    "    ('classifier', LogisticRegression(penalty='l1', solver='liblinear'))\n",
    "])\n",
    "\n",
    "\n",
    "lasso_param_grid = {\n",
    "    'classifier__C': [0.01, 0.1, 1, 10, 100],\n",
    "    'classifier__max_iter': [1000, 2000]\n",
    "}\n",
    "\n",
    "\n",
    "lasso_grid_search = GridSearchCV(estimator=lasso_pipeline, param_grid=lasso_param_grid, cv=5, scoring='accuracy', n_jobs=-1)\n",
    "\n",
    "# Fit the model \n",
    "lasso_grid_search.fit(X_train, y_train_encoded)\n",
    "\n",
    "\n",
    "lasso_best_params = lasso_grid_search.best_params_\n",
    "lasso_best_accuracy = lasso_grid_search.best_score_\n",
    "lasso_test_accuracy = lasso_grid_search.score(X_test, y_test_encoded)\n",
    "\n",
    "print(\"Lasso Logistic Regression Best Parameters:\", lasso_best_params)\n",
    "print(\"Lasso Logistic Regression Best Cross-Validation Accuracy:\", lasso_best_accuracy)\n",
    "print(\"Lasso Logistic Regression Test Accuracy:\", lasso_test_accuracy)\n"
   ]
  },
  {
   "cell_type": "markdown",
   "id": "74412fad-0c19-4d3e-9457-1007bada561f",
   "metadata": {},
   "source": [
    "# Random Forest Classifier with Hyperparameter Tuning"
   ]
  },
  {
   "cell_type": "markdown",
   "id": "d1f088af-e126-4e30-b5be-afa3d9304fe2",
   "metadata": {},
   "source": [
    "## THIS MODEL WAS THE BEST MODEL AMONG THE FITTED MODELS WHICH WAS GIVEN THE HIGHEST SCORE AMONG THE SUBMITTED CODES"
   ]
  },
  {
   "cell_type": "code",
   "execution_count": 150,
   "id": "3915162c-b59c-4aea-a625-653dde6fe789",
   "metadata": {},
   "outputs": [
    {
     "name": "stdout",
     "output_type": "stream",
     "text": [
      "Random Forest Best Parameters: {'classifier__max_depth': None, 'classifier__min_samples_leaf': 1, 'classifier__min_samples_split': 5, 'classifier__n_estimators': 100}\n",
      "Random Forest Best Cross-Validation Accuracy: 0.9314907667848844\n",
      "Random Forest Test Accuracy: 0.9244604316546763\n"
     ]
    }
   ],
   "source": [
    "\n",
    "rf_pipeline = Pipeline(steps=[\n",
    "    ('preprocessor', preprocessor),\n",
    "    ('classifier', RandomForestClassifier(random_state=42))\n",
    "])\n",
    "\n",
    "# Set up the hyperparameter\n",
    "rf_param_grid = {\n",
    "    'classifier__n_estimators': [50, 75,100,110, 200],\n",
    "    'classifier__max_depth': [None, 10, 20, 30],\n",
    "    'classifier__min_samples_split': [2, 4,5,7, 10],\n",
    "    'classifier__min_samples_leaf': [1, 2, 4]\n",
    "}\n",
    "\n",
    "#  best parameters\n",
    "rf_grid_search = GridSearchCV(estimator=rf_pipeline, param_grid=rf_param_grid, cv=5, scoring='accuracy', n_jobs=-1)\n",
    "\n",
    "# Fit the model \n",
    "rf_grid_search.fit(X_train, y_train_encoded)\n",
    "\n",
    "# Get the best parameters and accuracy\n",
    "rf_best_params = rf_grid_search.best_params_\n",
    "rf_best_accuracy = rf_grid_search.best_score_\n",
    "rf_test_accuracy = rf_grid_search.score(X_test, y_test_encoded)\n",
    "\n",
    "print(\"Random Forest Best Parameters:\", rf_best_params)\n",
    "print(\"Random Forest Best Cross-Validation Accuracy:\", rf_best_accuracy)\n",
    "print(\"Random Forest Test Accuracy:\", rf_test_accuracy)"
   ]
  },
  {
   "cell_type": "markdown",
   "id": "3c88e677-05ff-4c9e-8d99-462d0fe1ec0e",
   "metadata": {},
   "source": [
    "# Decision Tree Classifier with Hyperparameter Tuning"
   ]
  },
  {
   "cell_type": "code",
   "execution_count": 145,
   "id": "171cbce4-cd9c-476f-9b13-34e259e97bf0",
   "metadata": {},
   "outputs": [
    {
     "name": "stdout",
     "output_type": "stream",
     "text": [
      "Decision Tree Best Parameters: {'classifier__max_depth': 10, 'classifier__min_samples_leaf': 1, 'classifier__min_samples_split': 2}\n",
      "Decision Tree Best Cross-Validation Accuracy: 0.9134401369695487\n",
      "Decision Tree Test Accuracy: 0.9172661870503597\n"
     ]
    }
   ],
   "source": [
    "from sklearn.tree import DecisionTreeClassifier\n",
    "from sklearn.pipeline import Pipeline\n",
    "from sklearn.model_selection import GridSearchCV\n",
    "\n",
    "\n",
    "decision_tree_pipeline = Pipeline(steps=[\n",
    "    ('preprocessor', preprocessor),\n",
    "    ('classifier', DecisionTreeClassifier(random_state=42))\n",
    "])\n",
    "\n",
    "#  hyperparameter grid for tuning\n",
    "decision_tree_param_grid = {\n",
    "    'classifier__max_depth': [None, 10, 20, 30],\n",
    "    'classifier__min_samples_split': [2, 5, 10],\n",
    "    'classifier__min_samples_leaf': [1, 2, 4]\n",
    "}\n",
    "\n",
    "# Use GridSearchCV \n",
    "decision_tree_grid_search = GridSearchCV(estimator=decision_tree_pipeline, param_grid=decision_tree_param_grid, cv=5, scoring='accuracy', n_jobs=-1)\n",
    "\n",
    "# Fit the model \n",
    "decision_tree_grid_search.fit(X_train, y_train_encoded)\n",
    "\n",
    "# Get the best parameters \n",
    "decision_tree_best_params = decision_tree_grid_search.best_params_\n",
    "decision_tree_best_accuracy = decision_tree_grid_search.best_score_\n",
    "decision_tree_test_accuracy = decision_tree_grid_search.score(X_test, y_test_encoded)\n",
    "\n",
    "print(\"Decision Tree Best Parameters:\", decision_tree_best_params)\n",
    "print(\"Decision Tree Best Cross-Validation Accuracy:\", decision_tree_best_accuracy)\n",
    "print(\"Decision Tree Test Accuracy:\", decision_tree_test_accuracy)\n"
   ]
  },
  {
   "cell_type": "markdown",
   "id": "c84ae8d9-8a92-4d0c-9221-62c18823d53e",
   "metadata": {},
   "source": [
    "# Support Vector Machine (SVM) with Hyperparameter Tuning"
   ]
  },
  {
   "cell_type": "code",
   "execution_count": 146,
   "id": "99e03b46-ecc9-47d2-a56f-d5c6afe91afc",
   "metadata": {},
   "outputs": [
    {
     "name": "stdout",
     "output_type": "stream",
     "text": [
      "SVM Best Parameters: {'classifier__C': 0.01, 'classifier__gamma': 'scale', 'classifier__kernel': 'linear'}\n",
      "SVM Best Cross-Validation Accuracy: 0.9332803391626922\n",
      "SVM Test Accuracy: 0.920863309352518\n"
     ]
    }
   ],
   "source": [
    "from sklearn.svm import SVC\n",
    "from sklearn.pipeline import Pipeline\n",
    "from sklearn.model_selection import GridSearchCV\n",
    "\n",
    "# Define the pipeline\n",
    "svm_pipeline = Pipeline([\n",
    "    ('preprocessor', preprocessor),\n",
    "    ('classifier', SVC(random_state=42))\n",
    "])\n",
    "\n",
    "# Set up the hyperparameter\n",
    "svm_param_grid = {\n",
    "    'classifier__C': [0.01, 0.1, 1, 10, 100],\n",
    "    'classifier__kernel': ['linear', 'rbf'],\n",
    "    'classifier__gamma': ['scale', 'auto']\n",
    "}\n",
    "\n",
    "# Use GridSearchCV \n",
    "svm_grid_search = GridSearchCV(estimator=svm_pipeline, param_grid=svm_param_grid, cv=5, scoring='accuracy', n_jobs=-1)\n",
    "\n",
    "# Fit the model\n",
    "svm_grid_search.fit(X_train, y_train_encoded)\n",
    "\n",
    "\n",
    "svm_best_params = svm_grid_search.best_params_\n",
    "svm_best_accuracy = svm_grid_search.best_score_\n",
    "svm_test_accuracy = svm_grid_search.score(X_test, y_test_encoded)\n",
    "\n",
    "print(\"SVM Best Parameters:\", svm_best_params)\n",
    "print(\"SVM Best Cross-Validation Accuracy:\", svm_best_accuracy)\n",
    "print(\"SVM Test Accuracy:\", svm_test_accuracy)\n"
   ]
  },
  {
   "cell_type": "markdown",
   "id": "75fdaea9-e38d-4954-813a-87ce9f25463c",
   "metadata": {},
   "source": [
    "# MLP Classifier with Hyperparameter Tuning"
   ]
  },
  {
   "cell_type": "code",
   "execution_count": 148,
   "id": "bd362cf6-7676-4b4d-84f7-4208283a21c8",
   "metadata": {},
   "outputs": [
    {
     "name": "stdout",
     "output_type": "stream",
     "text": [
      "MLP Best Parameters: {'classifier__activation': 'relu', 'classifier__alpha': 0.001, 'classifier__hidden_layer_sizes': (50,), 'classifier__solver': 'lbfgs'}\n",
      "MLP Best Cross-Validation Accuracy: 0.8899841017488075\n",
      "MLP Test Accuracy: 0.8848920863309353\n"
     ]
    }
   ],
   "source": [
    "from sklearn.neural_network import MLPClassifier\n",
    "from sklearn.pipeline import Pipeline\n",
    "from sklearn.model_selection import GridSearchCV\n",
    "\n",
    "\n",
    "mlp_pipeline = Pipeline([\n",
    "    ('preprocessor', preprocessor),\n",
    "    ('classifier', MLPClassifier(max_iter=300, random_state=42))\n",
    "])\n",
    "\n",
    "# Set up the hyperparameter grid for tuning\n",
    "mlp_param_grid = {\n",
    "    'classifier__hidden_layer_sizes': [(50,), (100,), (50, 50)],\n",
    "    'classifier__activation': ['relu', 'tanh'],\n",
    "    'classifier__solver': ['adam', 'lbfgs'],\n",
    "    'classifier__alpha': [0.0001, 0.001, 0.01]\n",
    "}\n",
    "\n",
    "# Use GridSearchCV to search for the best parameters\n",
    "mlp_grid_search = GridSearchCV(estimator=mlp_pipeline, param_grid=mlp_param_grid, cv=5, scoring='accuracy', n_jobs=-1)\n",
    "\n",
    "# Fit the model\n",
    "mlp_grid_search.fit(X_train, y_train_encoded)\n",
    "\n",
    "# Get the best parameters and accuracy\n",
    "mlp_best_params = mlp_grid_search.best_params_\n",
    "mlp_best_accuracy = mlp_grid_search.best_score_\n",
    "mlp_test_accuracy = mlp_grid_search.score(X_test, y_test_encoded)\n",
    "\n",
    "print(\"MLP Best Parameters:\", mlp_best_params)\n",
    "print(\"MLP Best Cross-Validation Accuracy:\", mlp_best_accuracy)\n",
    "print(\"MLP Test Accuracy:\", mlp_test_accuracy)\n"
   ]
  },
  {
   "cell_type": "markdown",
   "id": "6cf92978-9faf-4c0e-990a-8babb3a2a021",
   "metadata": {},
   "source": [
    "#  Naive Bayes with Hyperparameter Tuning"
   ]
  },
  {
   "cell_type": "code",
   "execution_count": 151,
   "id": "e2a2f0fc-ef72-4fc2-a123-49be410b0001",
   "metadata": {},
   "outputs": [
    {
     "name": "stdout",
     "output_type": "stream",
     "text": [
      "Naive Bayes Best Parameters: {}\n",
      "Naive Bayes Best Cross-Validation Accuracy: 0.8719538543067955\n",
      "Naive Bayes Test Accuracy: 0.89568345323741\n"
     ]
    }
   ],
   "source": [
    "from sklearn.naive_bayes import GaussianNB\n",
    "from sklearn.pipeline import Pipeline\n",
    "from sklearn.model_selection import GridSearchCV\n",
    "\n",
    "# Define the pipeline\n",
    "naive_bayes_pipeline = Pipeline([\n",
    "    ('preprocessor', preprocessor),\n",
    "    ('classifier', GaussianNB())\n",
    "])\n",
    "\n",
    "\n",
    "naive_bayes_param_grid = {}\n",
    "\n",
    "# Use GridSearchCV \n",
    "naive_bayes_grid_search = GridSearchCV(estimator=naive_bayes_pipeline, param_grid=naive_bayes_param_grid, cv=5, scoring='accuracy', n_jobs=-1)\n",
    "\n",
    "# Fit the model\n",
    "naive_bayes_grid_search.fit(X_train, y_train_encoded)\n",
    "\n",
    "#  best parameters and accuracy\n",
    "naive_bayes_best_params = naive_bayes_grid_search.best_params_\n",
    "naive_bayes_best_accuracy = naive_bayes_grid_search.best_score_\n",
    "naive_bayes_test_accuracy = naive_bayes_grid_search.score(X_test, y_test_encoded)\n",
    "\n",
    "print(\"Naive Bayes Best Parameters:\", naive_bayes_best_params)\n",
    "print(\"Naive Bayes Best Cross-Validation Accuracy:\", naive_bayes_best_accuracy)\n",
    "print(\"Naive Bayes Test Accuracy:\", naive_bayes_test_accuracy)\n"
   ]
  },
  {
   "cell_type": "markdown",
   "id": "1eb6366a-e9de-471f-ad1b-6fd8c298157d",
   "metadata": {},
   "source": [
    "# XGBoost Classifier with Hyperparameter Tuning"
   ]
  },
  {
   "cell_type": "code",
   "execution_count": 153,
   "id": "76866d56-0553-4704-a888-2538d80b64c0",
   "metadata": {},
   "outputs": [
    {
     "name": "stdout",
     "output_type": "stream",
     "text": [
      "XGBoost Best Parameters: {'classifier__learning_rate': 0.01, 'classifier__max_depth': 3, 'classifier__n_estimators': 50, 'classifier__subsample': 0.8}\n",
      "XGBoost Best Cross-Validation Accuracy: 0.9305857894093188\n",
      "XGBoost Test Accuracy: 0.9136690647482014\n"
     ]
    }
   ],
   "source": [
    "from xgboost import XGBClassifier\n",
    "from sklearn.pipeline import Pipeline\n",
    "from sklearn.model_selection import GridSearchCV\n",
    "\n",
    "\n",
    "xgb_pipeline = Pipeline([\n",
    "    ('preprocessor', preprocessor),\n",
    "    ('classifier', XGBClassifier(random_state=42, use_label_encoder=False, eval_metric='logloss'))\n",
    "])\n",
    "\n",
    "# Set up the hyperparameter \n",
    "xgb_param_grid = {\n",
    "    'classifier__n_estimators': [50, 100, 200],\n",
    "    'classifier__max_depth': [3, 6, 9],\n",
    "    'classifier__learning_rate': [0.01, 0.1, 0.2],\n",
    "    'classifier__subsample': [0.8, 0.9, 1.0]\n",
    "}\n",
    "\n",
    "# Use GridSearchCV \n",
    "xgb_grid_search = GridSearchCV(estimator=xgb_pipeline, param_grid=xgb_param_grid, cv=5, scoring='accuracy', n_jobs=-1)\n",
    "\n",
    "# Fit the model \n",
    "xgb_grid_search.fit(X_train, y_train_encoded)\n",
    "\n",
    "# Get the best parameters \n",
    "xgb_best_params = xgb_grid_search.best_params_\n",
    "xgb_best_accuracy = xgb_grid_search.best_score_\n",
    "xgb_test_accuracy = xgb_grid_search.score(X_test, y_test_encoded)\n",
    "\n",
    "print(\"XGBoost Best Parameters:\", xgb_best_params)\n",
    "print(\"XGBoost Best Cross-Validation Accuracy:\", xgb_best_accuracy)\n",
    "print(\"XGBoost Test Accuracy:\", xgb_test_accuracy)\n"
   ]
  },
  {
   "cell_type": "markdown",
   "id": "b1880a9e-1a3b-47d0-a93d-29a59e6e79e5",
   "metadata": {},
   "source": [
    "# Gradient Boosting Classifier with Hyperparameter Tuning python\n"
   ]
  },
  {
   "cell_type": "code",
   "execution_count": 1096,
   "id": "51b3d8a9-6a7e-42b1-a28d-8670ae589a63",
   "metadata": {},
   "outputs": [
    {
     "name": "stdout",
     "output_type": "stream",
     "text": [
      "Gradient Boosting Best Parameters: {'classifier__learning_rate': 0.01, 'classifier__max_depth': 3, 'classifier__n_estimators': 50, 'classifier__subsample': 0.9}\n",
      "Gradient Boosting Best Cross-Validation Accuracy: 0.9350902939138234\n",
      "Gradient Boosting Test Accuracy: 0.920863309352518\n"
     ]
    }
   ],
   "source": [
    "from sklearn.ensemble import GradientBoostingClassifier\n",
    "from sklearn.pipeline import Pipeline\n",
    "from sklearn.model_selection import GridSearchCV\n",
    "\n",
    "\n",
    "gb_pipeline = Pipeline([\n",
    "    ('preprocessor', preprocessor),\n",
    "    ('classifier', GradientBoostingClassifier(random_state=42))\n",
    "])\n",
    "\n",
    "# Set up the hyperparameter \n",
    "gb_param_grid = {\n",
    "    'classifier__n_estimators': [50, 100, 200],\n",
    "    'classifier__learning_rate': [0.01, 0.1, 0.2],\n",
    "    'classifier__max_depth': [3, 5, 7],\n",
    "    'classifier__subsample': [0.8, 0.9, 1.0]\n",
    "}\n",
    "\n",
    "# Use GridSearchCV\n",
    "gb_grid_search = GridSearchCV(estimator=gb_pipeline, param_grid=gb_param_grid, cv=5, scoring='accuracy', n_jobs=-1)\n",
    "\n",
    "# Fit the model\n",
    "gb_grid_search.fit(X_train, y_train_encoded)\n",
    "\n",
    "\n",
    "gb_best_params = gb_grid_search.best_params_\n",
    "gb_best_accuracy = gb_grid_search.best_score_\n",
    "gb_test_accuracy = gb_grid_search.score(X_test, y_test_encoded)\n",
    "\n",
    "print(\"Gradient Boosting Best Parameters:\", gb_best_params)\n",
    "print(\"Gradient Boosting Best Cross-Validation Accuracy:\", gb_best_accuracy)\n",
    "print(\"Gradient Boosting Test Accuracy:\", gb_test_accuracy)\n"
   ]
  },
  {
   "cell_type": "markdown",
   "id": "690f991a-2298-4125-a7b6-177f72873917",
   "metadata": {},
   "source": [
    "# ADA"
   ]
  },
  {
   "cell_type": "code",
   "execution_count": 1097,
   "id": "c351ac65-e641-4aa6-b9fc-bc3764ccee6d",
   "metadata": {},
   "outputs": [
    {
     "name": "stdout",
     "output_type": "stream",
     "text": [
      "AdaBoost Best Parameters: {'classifier__algorithm': 'SAMME.R', 'classifier__learning_rate': 0.1, 'classifier__n_estimators': 50}\n",
      "AdaBoost Best Cross-Validation Accuracy: 0.9350902939138234\n",
      "AdaBoost Test Accuracy: 0.920863309352518\n"
     ]
    }
   ],
   "source": [
    "from sklearn.ensemble import AdaBoostClassifier\n",
    "from sklearn.pipeline import Pipeline\n",
    "from sklearn.model_selection import GridSearchCV\n",
    "\n",
    "\n",
    "ada_pipeline = Pipeline([\n",
    "    ('preprocessor', preprocessor),\n",
    "    ('classifier', AdaBoostClassifier(random_state=42))\n",
    "])\n",
    "\n",
    "\n",
    "ada_param_grid = {\n",
    "    'classifier__n_estimators': [50, 100, 200],               \n",
    "    'classifier__learning_rate': [0.01, 0.1, 1.0],              \n",
    "    'classifier__algorithm': ['SAMME', 'SAMME.R']                \n",
    "}\n",
    "\n",
    "\n",
    "ada_grid_search = GridSearchCV(estimator=ada_pipeline, param_grid=ada_param_grid, cv=5, scoring='accuracy', n_jobs=-1)\n",
    "\n",
    "\n",
    "ada_grid_search.fit(X_train, y_train_encoded)\n",
    "\n",
    "\n",
    "ada_best_params = ada_grid_search.best_params_\n",
    "ada_best_accuracy = ada_grid_search.best_score_\n",
    "ada_test_accuracy = ada_grid_search.score(X_test, y_test_encoded)\n",
    "\n",
    "print(\"AdaBoost Best Parameters:\", ada_best_params)\n",
    "print(\"AdaBoost Best Cross-Validation Accuracy:\", ada_best_accuracy)\n",
    "print(\"AdaBoost Test Accuracy:\", ada_test_accuracy)\n"
   ]
  },
  {
   "cell_type": "code",
   "execution_count": null,
   "id": "c8effa56-8f75-47d1-a7a8-56092b688b7f",
   "metadata": {},
   "outputs": [],
   "source": [
    "### "
   ]
  },
  {
   "cell_type": "markdown",
   "id": "4a1e537f-e46a-423b-b188-36e51f59b1f5",
   "metadata": {},
   "source": [
    "# Apply Upsampling Method to adress CLass inbalance"
   ]
  },
  {
   "cell_type": "code",
   "execution_count": 909,
   "id": "520ace02-f7e4-4cb4-afcf-ca79ce805b4d",
   "metadata": {},
   "outputs": [
    {
     "name": "stdout",
     "output_type": "stream",
     "text": [
      "Final\n",
      "2    928\n",
      "1    459\n",
      "Name: count, dtype: Int64\n"
     ]
    }
   ],
   "source": [
    "print(y.value_counts())\n"
   ]
  },
  {
   "cell_type": "code",
   "execution_count": 910,
   "id": "47a1bf64-5162-4070-afdf-efae774e3ba7",
   "metadata": {},
   "outputs": [],
   "source": [
    "from sklearn.utils import resample\n",
    "import pandas as pd\n",
    "\n",
    "# Combine X_train and y_train for resampling\n",
    "train_df = pd.concat([X_train, y_train], axis=1)\n",
    "\n",
    "# Separate the majority and minority classes\n",
    "df_majority = train_df[train_df['Final'] == 2]\n",
    "df_minority = train_df[train_df['Final'] == 1]\n",
    "\n",
    "# Upsample minority class\n",
    "df_minority_upsampled = resample(df_minority, \n",
    "                                 replace=True,     # Sample with replacement\n",
    "                                 n_samples=len(df_majority),    # Match the majority class\n",
    "                                 random_state=42)  # For reproducibility\n",
    "\n",
    "# Combine the upsampled minority class with the majority class\n",
    "train_upsampled = pd.concat([df_majority, df_minority_upsampled])\n",
    "\n",
    "# Separate features and target again\n",
    "X_train_upsampled = train_upsampled.drop('Final', axis=1)\n",
    "y_train_upsampled = train_upsampled['Final']\n"
   ]
  },
  {
   "cell_type": "code",
   "execution_count": 911,
   "id": "09aa2bd6-ec06-4050-baa4-e4cfc1034713",
   "metadata": {},
   "outputs": [
    {
     "data": {
      "text/plain": [
       "(1520, 144)"
      ]
     },
     "execution_count": 911,
     "metadata": {},
     "output_type": "execute_result"
    }
   ],
   "source": [
    "X_train_upsampled.shape"
   ]
  },
  {
   "cell_type": "code",
   "execution_count": 912,
   "id": "24f79b13-9c67-48d1-ad64-bcf760034655",
   "metadata": {},
   "outputs": [
    {
     "data": {
      "text/plain": [
       "(1109, 144)"
      ]
     },
     "execution_count": 912,
     "metadata": {},
     "output_type": "execute_result"
    }
   ],
   "source": [
    "X_train.shape"
   ]
  },
  {
   "cell_type": "code",
   "execution_count": 913,
   "id": "2d4e0152-7247-4f07-a737-08c7fca28825",
   "metadata": {},
   "outputs": [
    {
     "data": {
      "text/plain": [
       "(1109,)"
      ]
     },
     "execution_count": 913,
     "metadata": {},
     "output_type": "execute_result"
    }
   ],
   "source": [
    "y_train.shape"
   ]
  },
  {
   "cell_type": "code",
   "execution_count": 914,
   "id": "66ada02c-98e7-43a0-ac28-dc1ed53f2419",
   "metadata": {},
   "outputs": [
    {
     "data": {
      "text/plain": [
       "(1520,)"
      ]
     },
     "execution_count": 914,
     "metadata": {},
     "output_type": "execute_result"
    }
   ],
   "source": [
    "y_train_upsampled.shape"
   ]
  },
  {
   "cell_type": "code",
   "execution_count": 916,
   "id": "a1591f0d-4413-4e5a-bf21-acb436a45244",
   "metadata": {},
   "outputs": [],
   "source": [
    "\n",
    "from sklearn.preprocessing import LabelEncoder\n",
    "\n",
    "label_encoder = LabelEncoder()\n",
    "y_encoded = label_encoder.fit_transform(y)\n",
    "y_train_encoded = label_encoder.fit_transform(y_train)\n",
    "y_test_encoded = label_encoder.transform(y_test)\n",
    "y_train_upsampled_encoded=label_encoder.fit_transform(y_train_upsampled)\n"
   ]
  },
  {
   "cell_type": "code",
   "execution_count": 917,
   "id": "6fc8741a-6a23-4658-8372-8e15ffc21119",
   "metadata": {},
   "outputs": [
    {
     "name": "stdout",
     "output_type": "stream",
     "text": [
      "AdaBoost Best Parameters: {'classifier__algorithm': 'SAMME.R', 'classifier__learning_rate': 1.0, 'classifier__n_estimators': 200}\n",
      "AdaBoost Best Cross-Validation Accuracy: 0.9421052631578947\n",
      "AdaBoost Test Accuracy: 0.04316546762589928\n"
     ]
    }
   ],
   "source": [
    "from sklearn.ensemble import AdaBoostClassifier\n",
    "from sklearn.pipeline import Pipeline\n",
    "from sklearn.model_selection import GridSearchCV\n",
    "\n",
    "# Define the pipeline\n",
    "ada_pipeline = Pipeline([\n",
    "    ('preprocessor', preprocessor),\n",
    "    ('classifier', AdaBoostClassifier(random_state=42))\n",
    "])\n",
    "\n",
    "# Set up the hyperparameter\n",
    "ada_param_grid = {\n",
    "    'classifier__n_estimators': [50, 100, 200],                \n",
    "    'classifier__learning_rate': [0.01, 0.1, 1.0],              \n",
    "    'classifier__algorithm': ['SAMME', 'SAMME.R']                \n",
    "}\n",
    "\n",
    "\n",
    "ada_grid_search = GridSearchCV(estimator=ada_pipeline, param_grid=ada_param_grid, cv=5, scoring='accuracy', n_jobs=-1)\n",
    "\n",
    "\n",
    "ada_grid_search.fit(X_train_upsampled, y_train_upsampled)\n",
    "\n",
    "\n",
    "ada_best_params = ada_grid_search.best_params_\n",
    "ada_best_accuracy = ada_grid_search.best_score_\n",
    "ada_test_accuracy = ada_grid_search.score(X_test, y_test_encoded)\n",
    "\n",
    "print(\"AdaBoost Best Parameters:\", ada_best_params)\n",
    "print(\"AdaBoost Best Cross-Validation Accuracy:\", ada_best_accuracy)\n",
    "print(\"AdaBoost Test Accuracy:\", ada_test_accuracy)\n"
   ]
  },
  {
   "cell_type": "code",
   "execution_count": 918,
   "id": "59e1bd61-cf7c-48ab-a2c2-d54625a527c5",
   "metadata": {},
   "outputs": [
    {
     "name": "stdout",
     "output_type": "stream",
     "text": [
      "Gradient Boosting Best Parameters: {'classifier__learning_rate': 0.2, 'classifier__max_depth': 7, 'classifier__n_estimators': 50, 'classifier__subsample': 0.8}\n",
      "Gradient Boosting Best Cross-Validation Accuracy: 0.9697368421052632\n",
      "Gradient Boosting Test Accuracy: 0.007194244604316547\n"
     ]
    }
   ],
   "source": [
    "from sklearn.ensemble import GradientBoostingClassifier\n",
    "from sklearn.pipeline import Pipeline\n",
    "from sklearn.model_selection import GridSearchCV\n",
    "\n",
    "\n",
    "gb_pipeline = Pipeline([\n",
    "    ('preprocessor', preprocessor),\n",
    "    ('classifier', GradientBoostingClassifier(random_state=42))\n",
    "])\n",
    "\n",
    "# hyperparameter grid for tuning\n",
    "gb_param_grid = {\n",
    "    'classifier__n_estimators': [50, 100, 200],\n",
    "    'classifier__learning_rate': [0.01, 0.1, 0.2],\n",
    "    'classifier__max_depth': [3, 5, 7],\n",
    "    'classifier__subsample': [0.8, 0.9, 1.0]\n",
    "}\n",
    "\n",
    "# Use GridSearchCV to search for the best parameters\n",
    "gb_grid_search = GridSearchCV(estimator=gb_pipeline, param_grid=gb_param_grid, cv=5, scoring='accuracy', n_jobs=-1)\n",
    "\n",
    "# Fit the model\n",
    "gb_grid_search.fit(X_train_upsampled, y_train_upsampled)\n",
    "\n",
    "#  best parameters and accuracy\n",
    "gb_best_params = gb_grid_search.best_params_\n",
    "gb_best_accuracy = gb_grid_search.best_score_\n",
    "gb_test_accuracy = gb_grid_search.score(X_test, y_test_encoded)\n",
    "\n",
    "print(\"Gradient Boosting Best Parameters:\", gb_best_params)\n",
    "print(\"Gradient Boosting Best Cross-Validation Accuracy:\", gb_best_accuracy)\n",
    "print(\"Gradient Boosting Test Accuracy:\", gb_test_accuracy)\n"
   ]
  },
  {
   "cell_type": "code",
   "execution_count": 919,
   "id": "d1d44128-73c3-41eb-b6ad-f8c550fe955e",
   "metadata": {},
   "outputs": [],
   "source": [
    "# To adress the class ibalance after applying upsampling the accuracies were considerably low Hence Normal  method was better than adressing class inbalance"
   ]
  },
  {
   "cell_type": "code",
   "execution_count": null,
   "id": "dcbda468-35f6-4aeb-9053-952a15b28563",
   "metadata": {},
   "outputs": [],
   "source": []
  },
  {
   "cell_type": "markdown",
   "id": "0c63d2c4-52fa-45d1-9649-b99ddfe37569",
   "metadata": {},
   "source": [
    "# RESULTS"
   ]
  },
  {
   "cell_type": "code",
   "execution_count": 920,
   "id": "10ed5d73-15d0-4251-8c34-f995cddeca85",
   "metadata": {},
   "outputs": [
    {
     "name": "stdout",
     "output_type": "stream",
     "text": [
      "+---------------+--------------------+-----------------------------+\n",
      "|     Model     |       Normal       | With Hyper Parameter Tuning |\n",
      "+---------------+--------------------+-----------------------------+\n",
      "|      LR       |    0.917266187     |         0.920863309         |\n",
      "|     Ridge     |    0.917266187     |         0.902877698         |\n",
      "|     Lasso     |    0.920863309     |         0.920863309         |\n",
      "|      RF       |    0.924460432     |         0.924460432         |\n",
      "| Decision tree | 0.8776978417266187 |         0.917266187         |\n",
      "|      SVM      |    0.899280576     |         0.920863309         |\n",
      "|      mlp      |    0.888489209     |         0.884892086         |\n",
      "|  naive_bayes  |    0.895683453     |         0.895683453         |\n",
      "|      XGB      |    0.910071942     |         0.913669065         |\n",
      "|      gb       | 0.9172661870503597 |         0.920863309         |\n",
      "|      ADA      |    0.917266187     |         0.920863309         |\n",
      "+---------------+--------------------+-----------------------------+\n"
     ]
    }
   ],
   "source": [
    "import pandas as pd\n",
    "from tabulate import tabulate\n",
    "\n",
    "# Define the data\n",
    "data = {\n",
    "    \"Model\": [\"LR\", \"Ridge\", \"Lasso\", \"RF\", \"Decision tree\", \"SVM\", \"mlp\", \"naive_bayes\", \"XGB\", \"gb\", \"ADA\"],\n",
    "    \"Normal\": [0.917266187, 0.917266187, 0.920863309, 0.924460432, 0.8776978417266187, 0.899280576, 0.888489209, 0.895683453, 0.910071942, 0.9172661870503597, 0.917266187],\n",
    "    \"With Hyper Parameter Tuning\": [0.920863309, 0.902877698, 0.920863309, 0.924460432, 0.917266187, 0.920863309, 0.884892086, 0.895683453, 0.913669065, 0.920863309, 0.920863309],\n",
    "}\n",
    "\n",
    "# Create a DataFrame\n",
    "df = pd.DataFrame(data)\n",
    "\n",
    "# Print the table\n",
    "print(tabulate(df, headers='keys', tablefmt='pretty', showindex=False))\n"
   ]
  },
  {
   "cell_type": "code",
   "execution_count": 921,
   "id": "7386d4b2-c5a4-46cd-a0be-5e91d3857842",
   "metadata": {},
   "outputs": [],
   "source": [
    "# According to above table RF Normal  and With Hyper Parameter Tuning provided the Highest test accuracy values.Hence using those 2 models Predicted the actual test set"
   ]
  },
  {
   "cell_type": "markdown",
   "id": "0fef5687-3e61-4671-b83d-95acd61be767",
   "metadata": {},
   "source": [
    "# Test data"
   ]
  },
  {
   "cell_type": "markdown",
   "id": "aa63eb0d-e509-4261-b600-6196be5a7090",
   "metadata": {},
   "source": [
    "## testdata Preprocessing"
   ]
  },
  {
   "cell_type": "code",
   "execution_count": 992,
   "id": "7a3b1dac-ebb1-4577-9d4b-d912177b1d19",
   "metadata": {},
   "outputs": [],
   "source": [
    "testdata=pd.read_csv(\"test.csv\")"
   ]
  },
  {
   "cell_type": "code",
   "execution_count": 993,
   "id": "4888241e-ff24-4c0e-85fa-4c245f3ba511",
   "metadata": {},
   "outputs": [],
   "source": [
    "test=testdata.copy()"
   ]
  },
  {
   "cell_type": "code",
   "execution_count": 994,
   "id": "75595ffd-04d8-4aee-ac07-a27813107647",
   "metadata": {},
   "outputs": [
    {
     "data": {
      "text/html": [
       "<div>\n",
       "<style scoped>\n",
       "    .dataframe tbody tr th:only-of-type {\n",
       "        vertical-align: middle;\n",
       "    }\n",
       "\n",
       "    .dataframe tbody tr th {\n",
       "        vertical-align: top;\n",
       "    }\n",
       "\n",
       "    .dataframe thead th {\n",
       "        text-align: right;\n",
       "    }\n",
       "</style>\n",
       "<table border=\"1\" class=\"dataframe\">\n",
       "  <thead>\n",
       "    <tr style=\"text-align: right;\">\n",
       "      <th></th>\n",
       "      <th>ID</th>\n",
       "      <th>Year</th>\n",
       "      <th>Month</th>\n",
       "      <th>Hospital</th>\n",
       "      <th>Sample</th>\n",
       "      <th>ICU</th>\n",
       "      <th>OPD</th>\n",
       "      <th>Sex</th>\n",
       "      <th>Age</th>\n",
       "      <th>Ethnicity</th>\n",
       "      <th>...</th>\n",
       "      <th>FU_L.interrogansserovarIcterohaemorrhagiaestr.RGA</th>\n",
       "      <th>FU_L.interrogansserovarMankarsostr.Mankarso</th>\n",
       "      <th>FU_L.santarosaiserovarGeorgiastr.LT117</th>\n",
       "      <th>FU_L.santarosaiserovarPyrogenesstr.Salinem</th>\n",
       "      <th>FU_L.interrogansserovarBataviaestr.VanTienan</th>\n",
       "      <th>FU_L.interrogansserovarAlexistr.616</th>\n",
       "      <th>FU_L.interrogansserovarAustralisstr.Ballico</th>\n",
       "      <th>FU_L.interrogansserovarwolfiistr.3705</th>\n",
       "      <th>FU_L.interrogansserovarWeerasinghe</th>\n",
       "      <th>FU_Patoc</th>\n",
       "    </tr>\n",
       "  </thead>\n",
       "  <tbody>\n",
       "    <tr>\n",
       "      <th>0</th>\n",
       "      <td>1</td>\n",
       "      <td>2017</td>\n",
       "      <td>6</td>\n",
       "      <td>1</td>\n",
       "      <td>1</td>\n",
       "      <td>2</td>\n",
       "      <td>2</td>\n",
       "      <td>1</td>\n",
       "      <td>49</td>\n",
       "      <td>1</td>\n",
       "      <td>...</td>\n",
       "      <td>NaN</td>\n",
       "      <td>NaN</td>\n",
       "      <td>NaN</td>\n",
       "      <td>NaN</td>\n",
       "      <td>NaN</td>\n",
       "      <td>NaN</td>\n",
       "      <td>NaN</td>\n",
       "      <td>NaN</td>\n",
       "      <td>NaN</td>\n",
       "      <td>NaN</td>\n",
       "    </tr>\n",
       "    <tr>\n",
       "      <th>1</th>\n",
       "      <td>2</td>\n",
       "      <td>2017</td>\n",
       "      <td>6</td>\n",
       "      <td>1</td>\n",
       "      <td>1</td>\n",
       "      <td>2</td>\n",
       "      <td>2</td>\n",
       "      <td>1</td>\n",
       "      <td>47</td>\n",
       "      <td>1</td>\n",
       "      <td>...</td>\n",
       "      <td>NaN</td>\n",
       "      <td>NaN</td>\n",
       "      <td>NaN</td>\n",
       "      <td>NaN</td>\n",
       "      <td>NaN</td>\n",
       "      <td>NaN</td>\n",
       "      <td>NaN</td>\n",
       "      <td>NaN</td>\n",
       "      <td>NaN</td>\n",
       "      <td>NaN</td>\n",
       "    </tr>\n",
       "    <tr>\n",
       "      <th>2</th>\n",
       "      <td>3</td>\n",
       "      <td>2017</td>\n",
       "      <td>6</td>\n",
       "      <td>1</td>\n",
       "      <td>1</td>\n",
       "      <td>2</td>\n",
       "      <td>2</td>\n",
       "      <td>1</td>\n",
       "      <td>51</td>\n",
       "      <td>1</td>\n",
       "      <td>...</td>\n",
       "      <td>NaN</td>\n",
       "      <td>NaN</td>\n",
       "      <td>NaN</td>\n",
       "      <td>NaN</td>\n",
       "      <td>NaN</td>\n",
       "      <td>NaN</td>\n",
       "      <td>NaN</td>\n",
       "      <td>NaN</td>\n",
       "      <td>NaN</td>\n",
       "      <td>NaN</td>\n",
       "    </tr>\n",
       "    <tr>\n",
       "      <th>3</th>\n",
       "      <td>4</td>\n",
       "      <td>2017</td>\n",
       "      <td>6</td>\n",
       "      <td>1</td>\n",
       "      <td>1</td>\n",
       "      <td>2</td>\n",
       "      <td>2</td>\n",
       "      <td>2</td>\n",
       "      <td>37</td>\n",
       "      <td>1</td>\n",
       "      <td>...</td>\n",
       "      <td>NaN</td>\n",
       "      <td>NaN</td>\n",
       "      <td>NaN</td>\n",
       "      <td>NaN</td>\n",
       "      <td>NaN</td>\n",
       "      <td>NaN</td>\n",
       "      <td>NaN</td>\n",
       "      <td>NaN</td>\n",
       "      <td>NaN</td>\n",
       "      <td>NaN</td>\n",
       "    </tr>\n",
       "    <tr>\n",
       "      <th>4</th>\n",
       "      <td>5</td>\n",
       "      <td>2017</td>\n",
       "      <td>6</td>\n",
       "      <td>1</td>\n",
       "      <td>1</td>\n",
       "      <td>2</td>\n",
       "      <td>1</td>\n",
       "      <td>1</td>\n",
       "      <td>99</td>\n",
       "      <td>1</td>\n",
       "      <td>...</td>\n",
       "      <td>NaN</td>\n",
       "      <td>NaN</td>\n",
       "      <td>NaN</td>\n",
       "      <td>NaN</td>\n",
       "      <td>NaN</td>\n",
       "      <td>NaN</td>\n",
       "      <td>NaN</td>\n",
       "      <td>NaN</td>\n",
       "      <td>NaN</td>\n",
       "      <td>NaN</td>\n",
       "    </tr>\n",
       "  </tbody>\n",
       "</table>\n",
       "<p>5 rows × 805 columns</p>\n",
       "</div>"
      ],
      "text/plain": [
       "   ID  Year  Month  Hospital  Sample  ICU  OPD  Sex  Age  Ethnicity  ...  \\\n",
       "0   1  2017      6         1       1    2    2    1   49          1  ...   \n",
       "1   2  2017      6         1       1    2    2    1   47          1  ...   \n",
       "2   3  2017      6         1       1    2    2    1   51          1  ...   \n",
       "3   4  2017      6         1       1    2    2    2   37          1  ...   \n",
       "4   5  2017      6         1       1    2    1    1   99          1  ...   \n",
       "\n",
       "   FU_L.interrogansserovarIcterohaemorrhagiaestr.RGA  \\\n",
       "0                                                NaN   \n",
       "1                                                NaN   \n",
       "2                                                NaN   \n",
       "3                                                NaN   \n",
       "4                                                NaN   \n",
       "\n",
       "   FU_L.interrogansserovarMankarsostr.Mankarso  \\\n",
       "0                                          NaN   \n",
       "1                                          NaN   \n",
       "2                                          NaN   \n",
       "3                                          NaN   \n",
       "4                                          NaN   \n",
       "\n",
       "   FU_L.santarosaiserovarGeorgiastr.LT117  \\\n",
       "0                                     NaN   \n",
       "1                                     NaN   \n",
       "2                                     NaN   \n",
       "3                                     NaN   \n",
       "4                                     NaN   \n",
       "\n",
       "   FU_L.santarosaiserovarPyrogenesstr.Salinem  \\\n",
       "0                                         NaN   \n",
       "1                                         NaN   \n",
       "2                                         NaN   \n",
       "3                                         NaN   \n",
       "4                                         NaN   \n",
       "\n",
       "   FU_L.interrogansserovarBataviaestr.VanTienan  \\\n",
       "0                                           NaN   \n",
       "1                                           NaN   \n",
       "2                                           NaN   \n",
       "3                                           NaN   \n",
       "4                                           NaN   \n",
       "\n",
       "   FU_L.interrogansserovarAlexistr.616  \\\n",
       "0                                  NaN   \n",
       "1                                  NaN   \n",
       "2                                  NaN   \n",
       "3                                  NaN   \n",
       "4                                  NaN   \n",
       "\n",
       "   FU_L.interrogansserovarAustralisstr.Ballico  \\\n",
       "0                                          NaN   \n",
       "1                                          NaN   \n",
       "2                                          NaN   \n",
       "3                                          NaN   \n",
       "4                                          NaN   \n",
       "\n",
       "   FU_L.interrogansserovarwolfiistr.3705  FU_L.interrogansserovarWeerasinghe  \\\n",
       "0                                    NaN                                 NaN   \n",
       "1                                    NaN                                 NaN   \n",
       "2                                    NaN                                 NaN   \n",
       "3                                    NaN                                 NaN   \n",
       "4                                    NaN                                 NaN   \n",
       "\n",
       "   FU_Patoc  \n",
       "0       NaN  \n",
       "1       NaN  \n",
       "2       NaN  \n",
       "3       NaN  \n",
       "4       NaN  \n",
       "\n",
       "[5 rows x 805 columns]"
      ]
     },
     "execution_count": 994,
     "metadata": {},
     "output_type": "execute_result"
    }
   ],
   "source": [
    "testdata.head()"
   ]
  },
  {
   "cell_type": "code",
   "execution_count": 995,
   "id": "df23cf11-7b8d-4e01-9f55-391aa745dcba",
   "metadata": {},
   "outputs": [
    {
     "data": {
      "text/plain": [
       "ID                                              0.000000\n",
       "Year                                            0.000000\n",
       "Month                                           0.000000\n",
       "Hospital                                        0.000000\n",
       "Sample                                          0.000000\n",
       "                                                 ...    \n",
       "FU_L.interrogansserovarAlexistr.616            91.354467\n",
       "FU_L.interrogansserovarAustralisstr.Ballico    91.354467\n",
       "FU_L.interrogansserovarwolfiistr.3705          91.354467\n",
       "FU_L.interrogansserovarWeerasinghe             91.354467\n",
       "FU_Patoc                                       91.354467\n",
       "Length: 805, dtype: float64"
      ]
     },
     "execution_count": 995,
     "metadata": {},
     "output_type": "execute_result"
    }
   ],
   "source": [
    "# Percentage of na values in columns\n",
    "testdata.isna().mean()*100"
   ]
  },
  {
   "cell_type": "code",
   "execution_count": 996,
   "id": "19356081-f128-4620-ab92-fac7a41fddbe",
   "metadata": {},
   "outputs": [],
   "source": [
    "col_names = {'Muscletendernessonset': 'Mustenderonset', 'Muscletendernessad':'Mustenderad', 'Vomitingadmission':'Vomitingad','Cnsuffusionad':'Consufad','Cnsuffusiononset':'Consufonset', \n",
    "             'Mucosalrashonset':'Mucorashonset','Mucosalrashad':'Mucorashad', 'Diarrhoeaonset':'diarrheaonset','Diarrhoeaad':'diarrheaad', 'OliguriaAd':'Oliguriaad', 'Haemoptasisonset':'Haemoptysisonset','Haemoptasisad':'Haemoptysisad', \"SOBadd\": 'SOBad' }\n",
    "testdata.rename(columns = col_names, inplace=True)"
   ]
  },
  {
   "cell_type": "code",
   "execution_count": 997,
   "id": "40279495-f3b6-45e3-b255-51da1aa769d4",
   "metadata": {},
   "outputs": [],
   "source": [
    "colnames = ['Headache','Fever','Chills','Rigors','Musclepain','Mustender','Nausea','Vomiting','Consuf','Skinrash','Mucorash','Prostration','diarrhea','Oliguria','Anuria','Jaundice',\n",
    "            'Photophobia','Confusion','Cough','Haemoptysis','SOB','Chestpain','Bleeding']\n",
    "for col in colnames:\n",
    "  df = testdata[[col+'onset',col + '2',col + '3',col + '4',col + '5',col + '6',col + '7',col + '8',col + '9',col + '10', col + 'ad']]\n",
    "  df = df.replace(99, np.nan)\n",
    "  df['Days'] = None\n",
    "  for index, row in df.iterrows():\n",
    "    if df.loc[index].isna().all() == False:\n",
    "     df.at[index, 'Days'] = df.loc[index].eq(1).sum()\n",
    "    else:\n",
    "     df.at[index, 'Days'] = np.nan\n",
    "  testdata[col+'Days'] = df['Days']\n",
    "  testdata.drop([col+'onset',col + '2',col + '3',col + '4',col + '5',col + '6',col + '7',col + '8',col + '9',col + '10', col + 'ad'], axis=1, inplace=True)"
   ]
  },
  {
   "cell_type": "code",
   "execution_count": 998,
   "id": "3420c764-1400-4e60-b151-6c9665159ee8",
   "metadata": {},
   "outputs": [],
   "source": [
    "#'Psychoticsymptoms'\n",
    "col_names = {'Hepatictendernessad':'hepatictenderad', 'Hepatomegalyad':'hepatomegalyad', 'Spleenimegalyad':'Spleenomegalyad', 'Lympadenopathyad':'Lymphadenopathyad'}\n",
    "testdata.rename(columns = col_names, inplace=True)\n",
    "colnames = ['hepatictender','hepatomegaly','Spleenomegaly','Lymphadenopathy', 'Neckstiffness']\n",
    "for col in colnames:\n",
    "  df = testdata[[col + '2',col + '3',col + '4',col + '5',col + '6',col + '7',col + '8',col + '9',col + '10', col + 'ad']]\n",
    "  df = df.replace(99, np.nan)\n",
    "  df['Days'] = None\n",
    "  for index, row in df.iterrows():\n",
    "    if df.loc[index].isna().all() == False:\n",
    "     df.at[index, 'Days'] = df.loc[index].eq(1).sum()\n",
    "    else:\n",
    "     df.at[index, 'Days'] = np.nan\n",
    "  testdata[col+'Days'] = df['Days']\n",
    "  testdata.drop([col + '2',col + '3',col + '4',col + '5',col + '6',col + '7',col + '8',col + '9',col + '10', col + 'ad'], axis=1, inplace=True)"
   ]
  },
  {
   "cell_type": "code",
   "execution_count": 999,
   "id": "abb00316-bbf7-4a9a-9989-40727d612307",
   "metadata": {},
   "outputs": [],
   "source": [
    "testdata = testdata.drop(columns_to_drop_1, axis=1)"
   ]
  },
  {
   "cell_type": "code",
   "execution_count": 1000,
   "id": "7a040950-b215-4eb7-b753-c88d4e54a43a",
   "metadata": {},
   "outputs": [],
   "source": [
    "drop_cols = ['PRad','SBPadd','DBPadd','Pulserate2','Pulserate3','Pulserate4',\n",
    "             'Pulserate5','Pulserate6','Pulserate7','Pulserate8','Pulserate9',\n",
    "             'Pulserate10','SBP2','DBP2','SBP3','DBP3','SBP4','DBP4','SBP5',\n",
    "             'DBP5','SBP6','DBP6','SBP7','DBP7','SBP8','DBP8','SBP9','DBP9',\n",
    "             'SBP10','DBP10']\n",
    "# Cannot distinguish between actual 99 values and na 99 values\n",
    "testdata.drop(drop_cols, axis=1, inplace=True)"
   ]
  },
  {
   "cell_type": "code",
   "execution_count": 1001,
   "id": "fce7808e-a2b1-4e50-84f8-367ddc76a0b3",
   "metadata": {},
   "outputs": [],
   "source": [
    "# Pus cells doesn't indicate any unsual case and there are na values for more than approximately 1000 cases. Hence those columns will be dropped.\n",
    "col = 'Puscells'\n",
    "colnames = ['Puscells', col + '2',col + '3',col + '4',col + '5',col + '6',col + '7',col + '8',col + '9',col + '10']\n",
    "testdata.drop(colnames, axis = 1, inplace = True)"
   ]
  },
  {
   "cell_type": "code",
   "execution_count": 1002,
   "id": "e7c75f70-6054-45ca-80ac-7c0bbde94275",
   "metadata": {},
   "outputs": [],
   "source": [
    "drop_cols = ['PulseRate','PulseRhythem','WBC_first_day','WBCCount1','ALP', 'Sphosphate', 'Samylase']\n",
    "# Cannot distinguish between actual 99 values and na 99 values\n",
    "testdata.drop(drop_cols, axis=1, inplace=True)"
   ]
  },
  {
   "cell_type": "code",
   "execution_count": 1003,
   "id": "78d022b4-a10a-4537-b8e3-1548c989c9a2",
   "metadata": {},
   "outputs": [],
   "source": [
    "# ESR can take 99 so it cannot be distinguished between acutal 99 and na\n",
    "col = 'ESR'\n",
    "colnames = ['ESR', col + '2',col + '3',col + '4',col + '5',col + '6',col + '7',col + '8',col + '9',col + '10']\n",
    "testdata.drop(colnames, axis = 1, inplace = True)"
   ]
  },
  {
   "cell_type": "code",
   "execution_count": 1004,
   "id": "eb600d9e-08af-488a-a86a-780cb37ac589",
   "metadata": {},
   "outputs": [],
   "source": [
    "# Too many missing values\n",
    "testdata.drop(['Granularcast', 'Leucocytes'], axis = 1, inplace = True)"
   ]
  },
  {
   "cell_type": "code",
   "execution_count": 1005,
   "id": "b20c8430-1f3d-460b-9b79-e34a78fc9931",
   "metadata": {},
   "outputs": [],
   "source": [
    "# ALT can take 99 so it cannot be distinguished between acutal 99 and na\n",
    "col = 'ALT'\n",
    "colnames = ['ALT', col + '2',col + '3',col + '4',col + '5',col + '6',col + '7',col + '8',col + '9',col + '10']\n",
    "testdata.drop(colnames, axis = 1, inplace = True)"
   ]
  },
  {
   "cell_type": "code",
   "execution_count": 1006,
   "id": "d1803d6b-880e-4f6e-98bd-44a944979fbc",
   "metadata": {},
   "outputs": [],
   "source": [
    "# ESR can take 99 so it cannot be distinguished between acutal 99 and na\n",
    "col = 'GT'\n",
    "colnames = ['X.GT', col + '2',col + '3',col + '4',col + '5',col + '6',col + '7',col + '8',col + '9',col + '10']\n",
    "testdata.drop(colnames, axis = 1, inplace = True)\n",
    "\n",
    "# S.Cr\n",
    "col = 'S.Cr'\n",
    "colnames = ['S.creatinine', col + '2',col + '3',col + '4',col + '5',col + '6',col + '7',col + '8',col + '9',col + '10']\n",
    "testdata.drop(colnames, axis = 1, inplace = True)"
   ]
  },
  {
   "cell_type": "code",
   "execution_count": 1007,
   "id": "d291e064-9487-4705-ac8c-636a03cc91d0",
   "metadata": {},
   "outputs": [],
   "source": [
    "cols = ['S.amylase', 'S.phosphate','ALP']\n",
    "for col in cols:\n",
    "  colname = [col + '2',col + '3',col + '4',col + '5',col + '6',col + '7',col + '8',col + '9',col + '10']\n",
    "  testdata.drop(colname, axis = 1, inplace = True)\n"
   ]
  },
  {
   "cell_type": "code",
   "execution_count": 1008,
   "id": "c01f351e-3e3c-4d65-b90d-d52324ccd69c",
   "metadata": {},
   "outputs": [],
   "source": [
    "col = 'B.Urea'\n",
    "colnames = ['B.urea', col + '2',col + '3',col + '4',col + '5',col + '6',col + '7',col + '8',col + '9',col + '10']\n",
    "testdata[colnames] = testdata[colnames].where(testdata[colnames] < 99, np.nan)\n"
   ]
  },
  {
   "cell_type": "code",
   "execution_count": 1009,
   "id": "2c7c2e50-e073-4396-b967-74e7a3f46985",
   "metadata": {},
   "outputs": [
    {
     "data": {
      "text/plain": [
       "Year                    0\n",
       "Month                   0\n",
       "Hospital                0\n",
       "Sample                  0\n",
       "ICU                    19\n",
       "                       ..\n",
       "hepatictenderDays      89\n",
       "hepatomegalyDays       88\n",
       "SpleenomegalyDays      89\n",
       "LymphadenopathyDays    89\n",
       "NeckstiffnessDays      85\n",
       "Length: 337, dtype: int64"
      ]
     },
     "execution_count": 1009,
     "metadata": {},
     "output_type": "execute_result"
    }
   ],
   "source": [
    "testdata = testdata.drop('ID', axis=1)\n",
    "testdata = testdata.replace(99, np.nan)\n",
    "testdata.isna().sum()"
   ]
  },
  {
   "cell_type": "code",
   "execution_count": 1010,
   "id": "3d09c466-94ee-4e65-b926-406654a247cd",
   "metadata": {},
   "outputs": [],
   "source": [
    "cols = ['HomeStreamrivercanaloranyotherrunningwatersource', \n",
    "        'WorkplaceStreamrivercanaloranyotherrunningwatersource',\n",
    "        'Homepondlaketankoranyotherstagnantwatersource',\n",
    "        'WorkPlacepondlaketankoranyotherstagnantwatersource']\n",
    "       \n",
    "anyWaterArea = testdata[cols]\n",
    "\n",
    "testdata['anyWaterArea'] = anyWaterArea.apply(water_area, axis=1)\n",
    "\n",
    "testdata.drop(cols, axis = 1, inplace = True)\n",
    "\n"
   ]
  },
  {
   "cell_type": "code",
   "execution_count": 1011,
   "id": "de846ec4-aece-4fda-9826-a890a4273817",
   "metadata": {},
   "outputs": [],
   "source": [
    "animal = ['rat', 'cat', 'dog', 'cattle', 'pig', 'goat','other']\n",
    "\n",
    "lowercase_testdata = testdata.copy()\n",
    "lowercase_testdata.columns = lowercase_testdata.columns.str.lower()\n",
    "\n",
    "for col in animal:\n",
    "  testdata[col] = lowercase_testdata[col + 'home'] + lowercase_testdata[col + 'workplace'] + lowercase_testdata[col + 'neighbourhood']\n",
    "  \n",
    "testdata.drop(['Rathome','RatWorkplace','RatNeighbourhood','Cathome','Catworkplace',\n",
    "           'CatNeighbourhood','Doghome','DogWorkplace','DogNeighbourhood',\n",
    "           'Cattlehome','CattleWorkplace','CattleNeighbourhood','PigHome',\n",
    "           'PigWorkplace','PigNeighbourhood','GoatHome','GoatWorkplace','GoatNeighbourhood','OtherHome',\n",
    "           'OtherWorkplace','OtherNeighbourhood'], axis = 1, inplace = True)\n"
   ]
  },
  {
   "cell_type": "code",
   "execution_count": 1012,
   "id": "ef06e779-90a6-4f17-a54a-2fad5dc8f236",
   "metadata": {},
   "outputs": [],
   "source": [
    "# Diagnosis\n",
    "cols = ['WPqPCRDiagnosis','UrineqPCRDiagnosis','CultureqPCRDia','SerumqPCRDiagnosis','UFqPCRDiag']\n",
    "\n",
    "\n",
    "testdata['confirmed_diag'] = testdata[cols].eq(1).sum(axis=1)\n",
    "testdata['probable_diag'] = testdata[cols].eq(2).sum(axis=1)\n",
    "testdata['notdetected_diag'] = testdata[cols].eq(3).sum(axis=1)\n",
    "\n",
    "testdata.drop(['UrineqPCRDiagnosis','CultureqPCRDia','SerumqPCRDiagnosis','UFqPCRDiag'], axis = 1, inplace = True)"
   ]
  },
  {
   "cell_type": "code",
   "execution_count": 1013,
   "id": "82c633d3-e2dc-4c57-baba-c65c8be4d902",
   "metadata": {},
   "outputs": [],
   "source": [
    "testdata = testdata.rename(columns={'Workplacemarshywet':'Workplacemarshywetland', 'HomeBushes':'Homebushes', 'WorkPlaceworkingpaddyfield':'Workplaceworkingpaddyfield',\n",
    "                            'workplaceotheragricultural':'Workplaceotheragricultural'})\n",
    "\n",
    "cols = ['marshywetland','bushes','forest','workingpaddyfield','abondantpaddyfield',\n",
    "        'otheragricultural','animalfarm','garbageaccumilation','blockeddrainage','sewer']\n",
    "\n",
    "for col in cols:\n",
    "  df = testdata[['Home' + col, 'Workplace' + col]]\n",
    "  testdata['any' + col] = df.apply(outcome, axis=1)\n",
    "  testdata.drop(['Home' + col, 'Workplace' + col], axis = 1, inplace = True)"
   ]
  },
  {
   "cell_type": "code",
   "execution_count": 1014,
   "id": "3d63f9bd-52e9-455c-a195-fc3daa04fefb",
   "metadata": {},
   "outputs": [],
   "source": [
    "testdata['urumeeya'] = testdata['Urumeeyahome'] + testdata['Urumeeyaworkplace'] + testdata['UrimeeyaNeighbourhood']\n",
    "testdata['otherRhodents'] = testdata['OtherrhodentsHome'] + testdata['OtherRhoddentsWorkplace'] + testdata['OtherRhodentsNeighbourhood']\n",
    "\n",
    "testdata.drop(['UrimeeyaNeighbourhood','Urumeeyahome','Urumeeyaworkplace', 'OtherrhodentsHome', 'OtherRhoddentsWorkplace', 'OtherRhodentsNeighbourhood'], axis = 1, inplace=True)"
   ]
  },
  {
   "cell_type": "code",
   "execution_count": 1015,
   "id": "308fd791-5d03-4f3c-88f7-c640f6c215c2",
   "metadata": {},
   "outputs": [],
   "source": [
    "testdata['Isolate'] = testdata['Isolate'].replace(98, np.nan)"
   ]
  },
  {
   "cell_type": "code",
   "execution_count": 1016,
   "id": "b78ec699-d0dc-4db7-8fdf-ce8273880f84",
   "metadata": {},
   "outputs": [
    {
     "data": {
      "text/plain": [
       "(347, 305)"
      ]
     },
     "execution_count": 1016,
     "metadata": {},
     "output_type": "execute_result"
    }
   ],
   "source": [
    "testdata.shape"
   ]
  },
  {
   "cell_type": "code",
   "execution_count": 1017,
   "id": "4fffd284-c752-4a3f-9e4f-8dc92a6285b4",
   "metadata": {},
   "outputs": [],
   "source": [
    "# Drop columns with more than 70% missing values\n",
    "testdata = testdata.drop(columns_to_drop_2, axis=1)"
   ]
  },
  {
   "cell_type": "code",
   "execution_count": 1018,
   "id": "4ec711c5-238f-47a7-8c09-4c6ffe00dd83",
   "metadata": {},
   "outputs": [
    {
     "data": {
      "text/plain": [
       "(347, 145)"
      ]
     },
     "execution_count": 1018,
     "metadata": {},
     "output_type": "execute_result"
    }
   ],
   "source": [
    "testdata.shape"
   ]
  },
  {
   "cell_type": "code",
   "execution_count": 1019,
   "id": "dccecb62-b044-49a3-9a83-d7ae5f611673",
   "metadata": {},
   "outputs": [],
   "source": [
    "# Assuming data is your DataFrame\n",
    "testdata = testdata.replace('[a-zA-Z]+', np.nan, regex=True)\n",
    "testdata = testdata.replace(' ', np.nan)\n",
    "testdata = testdata.fillna(99)  # Replace missing values with 0\n",
    "testdata = testdata.astype(np.float64).astype(int)\n",
    "testdata = testdata.astype(int)\n",
    "testdata[testdata == 99] = pd.NA"
   ]
  },
  {
   "cell_type": "code",
   "execution_count": 1020,
   "id": "083f4fdd-e78a-4e42-83d7-b2b5c8e620ee",
   "metadata": {},
   "outputs": [],
   "source": [
    "testdata = testdata.astype('Int64')"
   ]
  },
  {
   "cell_type": "code",
   "execution_count": 1021,
   "id": "c7284e18-b636-4517-b0a0-a8479374d6a1",
   "metadata": {},
   "outputs": [],
   "source": [
    "cat_columns_to_convert = ['Year','Month','Hospital','Sample','ICU','OPD','Sex',\n",
    "                          'Ethnicity','Education','TertiaryEducation','Prophylactics',\n",
    "                          'Pasttreatments','Pastantibiotics','Chronicillness',\n",
    "                          'Possibleexposure','Psychoticsymptomsonset','Psychoticsymptomsad',\n",
    "                          'WPqPCRDiagnosis','Isolate','MAT_set_1']\n",
    "\n",
    "testdata[cat_columns_to_convert] = testdata[cat_columns_to_convert].astype('Int64')\n",
    "testdata[cat_columns_to_convert] = testdata[cat_columns_to_convert].astype('category')\n",
    "\n",
    "num_columns_to_convert  = testdata.columns[testdata.columns.get_loc('WBCcount'):]\n",
    "\n",
    "testdata[num_columns_to_convert] = testdata[num_columns_to_convert].astype('Int64')"
   ]
  },
  {
   "cell_type": "code",
   "execution_count": 1022,
   "id": "71eaac2b-a621-4427-b84f-3d9bdc7f774b",
   "metadata": {},
   "outputs": [],
   "source": [
    "testdata.drop(testdata.columns[3], axis=1, inplace=True)"
   ]
  },
  {
   "cell_type": "code",
   "execution_count": 1023,
   "id": "10a6b715-d7c0-4cde-b44b-d061860226f5",
   "metadata": {},
   "outputs": [
    {
     "data": {
      "text/plain": [
       "(347, 144)"
      ]
     },
     "execution_count": 1023,
     "metadata": {},
     "output_type": "execute_result"
    }
   ],
   "source": [
    "testdata.shape"
   ]
  },
  {
   "cell_type": "code",
   "execution_count": 1024,
   "id": "d6cf5423-4cd3-4be3-89c1-7f26f197f57d",
   "metadata": {},
   "outputs": [
    {
     "data": {
      "text/plain": [
       "Year                        0\n",
       "Month                       0\n",
       "Hospital                    0\n",
       "ICU                        19\n",
       "OPD                        19\n",
       "                         ... \n",
       "anyanimalfarm             260\n",
       "anygarbageaccumilation    260\n",
       "anyblockeddrainage        261\n",
       "anysewer                  265\n",
       "urumeeya                  277\n",
       "Length: 144, dtype: int64"
      ]
     },
     "execution_count": 1024,
     "metadata": {},
     "output_type": "execute_result"
    }
   ],
   "source": [
    "testdata.isna().sum()"
   ]
  },
  {
   "cell_type": "code",
   "execution_count": 1025,
   "id": "ff8eeb0d-7f37-4762-be4e-eb93a3fffd79",
   "metadata": {},
   "outputs": [
    {
     "name": "stdout",
     "output_type": "stream",
     "text": [
      "Index(['ICU', 'OPD', 'Sex', 'Age', 'Ethnicity', 'Income', 'Education',\n",
      "       'TertiaryEducation', 'Prophylactics', 'Pasttreatments',\n",
      "       ...\n",
      "       'anybushes', 'anyforest', 'anyworkingpaddyfield',\n",
      "       'anyabondantpaddyfield', 'anyotheragricultural', 'anyanimalfarm',\n",
      "       'anygarbageaccumilation', 'anyblockeddrainage', 'anysewer', 'urumeeya'],\n",
      "      dtype='object', length=138)\n"
     ]
    }
   ],
   "source": [
    "columns_with_missing_values = testdata.columns[testdata.isna().any()]\n",
    "\n",
    "print(columns_with_missing_values)\n"
   ]
  },
  {
   "cell_type": "code",
   "execution_count": 1026,
   "id": "5ee53d38-2b04-4e0e-b6bd-3c39d2a5afed",
   "metadata": {},
   "outputs": [],
   "source": [
    "impute_test= testdata.copy()\n",
    "\n",
    "impute_test = impute_test.fillna(impute_test.mode().iloc[0])"
   ]
  },
  {
   "cell_type": "code",
   "execution_count": 1027,
   "id": "7521fb7c-a69d-4c86-8bea-b746aef775f8",
   "metadata": {},
   "outputs": [
    {
     "name": "stdout",
     "output_type": "stream",
     "text": [
      "Index([], dtype='object')\n"
     ]
    }
   ],
   "source": [
    "\n",
    "columns_with_missing_values = impute_test.columns[impute_test.isna().any()]\n",
    "\n",
    "print(columns_with_missing_values)\n"
   ]
  },
  {
   "cell_type": "code",
   "execution_count": 1028,
   "id": "8c01f468-e074-42bb-9f40-68c7490520ae",
   "metadata": {},
   "outputs": [
    {
     "data": {
      "text/plain": [
       "Year                      0\n",
       "Month                     0\n",
       "Hospital                  0\n",
       "ICU                       0\n",
       "OPD                       0\n",
       "                         ..\n",
       "anyanimalfarm             0\n",
       "anygarbageaccumilation    0\n",
       "anyblockeddrainage        0\n",
       "anysewer                  0\n",
       "urumeeya                  0\n",
       "Length: 144, dtype: int64"
      ]
     },
     "execution_count": 1028,
     "metadata": {},
     "output_type": "execute_result"
    }
   ],
   "source": [
    "impute_test.isna().sum()"
   ]
  },
  {
   "cell_type": "code",
   "execution_count": 1029,
   "id": "cc8f30c5-a40e-4dc9-83c8-ebcce98372bf",
   "metadata": {},
   "outputs": [],
   "source": [
    "#impute_test.info(all)"
   ]
  },
  {
   "cell_type": "code",
   "execution_count": 1030,
   "id": "90623521-cf67-464c-b31b-e84b933a36f0",
   "metadata": {},
   "outputs": [],
   "source": [
    "imp_testdata2=impute_test"
   ]
  },
  {
   "cell_type": "code",
   "execution_count": 1031,
   "id": "d2f397ec-1530-45ed-a866-1493d0f84c31",
   "metadata": {},
   "outputs": [],
   "source": [
    "#RF - Model 1"
   ]
  },
  {
   "cell_type": "raw",
   "id": "c1b6c969-de6d-426f-9280-5befec7d5424",
   "metadata": {},
   "source": [
    "y_testpred_rf = rf_classifier.predict(imp_testdata2)\n",
    "y_test_pred_rf = y_testpred_rf+1"
   ]
  },
  {
   "cell_type": "raw",
   "id": "7f38a078-5ba4-4a87-9aca-51b747c66b7b",
   "metadata": {},
   "source": [
    "print(y_test_pred_rf)"
   ]
  },
  {
   "cell_type": "raw",
   "id": "f0b41b5a-93d3-49cf-8758-7304dbbab765",
   "metadata": {},
   "source": [
    "predictions_df=pd.DataFrame({\n",
    "    'ID': test['ID'],\n",
    "    'Final':y_test_pred_rf\n",
    "})"
   ]
  },
  {
   "cell_type": "raw",
   "id": "e51da7e9-080e-4fc0-806f-cd2670bc1211",
   "metadata": {},
   "source": [
    "predictions_df.to_csv('Normal_RF.csv', index=False)"
   ]
  },
  {
   "cell_type": "code",
   "execution_count": 1032,
   "id": "67d6af92-45ec-4338-b7fc-b6bfc13ad136",
   "metadata": {},
   "outputs": [],
   "source": [
    "# RF with Hyper Parameter Tuning -Model 2"
   ]
  },
  {
   "cell_type": "code",
   "execution_count": null,
   "id": "8418b93e-6b5e-4f08-8a40-d79d5761f450",
   "metadata": {},
   "outputs": [],
   "source": [
    "y_testpred_rf_hyper = rf_grid_search.predict(imp_testdata2)\n",
    "y_test_pred_rf_hyper = y_testpred_rf_hyper+1"
   ]
  },
  {
   "cell_type": "code",
   "execution_count": null,
   "id": "22247cb0-4709-4d4f-abdc-1f6bd1bfb336",
   "metadata": {},
   "outputs": [],
   "source": [
    "print(y_test_pred_rf_hyper)"
   ]
  },
  {
   "cell_type": "code",
   "execution_count": null,
   "id": "a80d68fe-531b-4eb6-a6c2-4912da8c1128",
   "metadata": {},
   "outputs": [],
   "source": [
    "predictions_df=pd.DataFrame({\n",
    "    'ID': test['ID'],\n",
    "    'Final':y_test_pred_rf_hyper\n",
    "})"
   ]
  },
  {
   "cell_type": "raw",
   "id": "c279ecf6-edbb-438f-b3eb-7ecd7703bbe1",
   "metadata": {},
   "source": [
    "predictions_df.to_csv('Normal_RF_Hyper.csv', index=False)"
   ]
  },
  {
   "cell_type": "code",
   "execution_count": 922,
   "id": "e80d920c-b8fe-461c-9e36-7ec028c2a514",
   "metadata": {},
   "outputs": [],
   "source": [
    "# RF with Hyper Parameter Tuning provided the Highest Score among the submitted codes in Kaggle Competition"
   ]
  },
  {
   "cell_type": "code",
   "execution_count": 1095,
   "id": "8c4fe123-fd75-45f0-8473-dedeeabdeea5",
   "metadata": {},
   "outputs": [
    {
     "name": "stdout",
     "output_type": "stream",
     "text": [
      "[1 2 2 1 1 2 2 2 2 2 2 2 2 2 2 2 2 2 2 2 2 2 2 2 2 2 2 2 2 2 2 2 2 2 2 2 2\n",
      " 2 2 1 1 2 1 2 2 2 2 2 2 2 2 2 2 2 1 1 1 2 2 2 2 2 1 2 2 1 1 1 2 2 2 2 1 2\n",
      " 2 1 2 2 2 2 2 1 2 2 2 2 2 2 2 2 2 2 2 2 2 2 2 2 2 2 2 2 2 2 2 2 2 2 2 2 2\n",
      " 1 2 2 2 2 2 2 1 2 2 1 2 2 1 2 2 2 2 2 2 2 2 2 2 2 2 2 1 2 2 1 2 2 2 2 2 1\n",
      " 1 1 1 2 1 1 1 2 2 2 2 2 2 2 2 2 2 2 2 1 1 1 1 1 1 2 2 2 1 1 1 2 2 2 1 2 2\n",
      " 2 2 2 2 1 1 1 2 2 2 2 1 2 1 2 1 2 1 2 1 1 1 1 1 1 1 1 1 2 1 2 2 2 2 2 2 2\n",
      " 2 1 2 2 2 2 2 2 1 2 2 2 1 1 1 1 1 1 1 2 2 2 2 2 2 2 2 1 2 1 1 1 2 2 2 1 2\n",
      " 2 1 2 2 2 1 1 2 2 2 2 1 1 2 2 2 2 1 1 1 2 2 2 1 2 2 2 2 2 2 2 2 2 2 1 2 1\n",
      " 2 1 2 1 2 2 2 2 2 2 2 2 2 2 1 1 2 2 2 2 2 2 2 2 2 2 1 1 1 1 1 1 1 1 1 1 2\n",
      " 1 2 2 1 2 2 2 2 2 1 2 2 1 2]\n"
     ]
    }
   ],
   "source": [
    "y_testpred_rf_hyper = svm_grid_search.predict(imp_testdata2)\n",
    "y_test_pred_rf_hyper = y_testpred_rf_hyper+1\n",
    "\n",
    "\n",
    "print(y_test_pred_rf_hyper)\n",
    "predictions_df=pd.DataFrame({\n",
    "    'ID': test['ID'],\n",
    "    'Final':y_test_pred_rf_hyper\n",
    "})\n",
    "\n",
    "predictions_df.to_csv('Normal_SVM_Hyper.csv', index=False)"
   ]
  },
  {
   "cell_type": "code",
   "execution_count": 1098,
   "id": "fdaa83cc-716e-44ce-887e-7c8f39325902",
   "metadata": {},
   "outputs": [
    {
     "name": "stdout",
     "output_type": "stream",
     "text": [
      "[1 2 2 1 1 2 2 2 2 2 2 2 2 2 2 2 2 2 2 2 2 2 2 2 2 2 2 2 2 2 2 2 2 2 2 2 2\n",
      " 2 2 1 1 2 1 2 2 2 2 2 2 2 2 2 2 2 1 1 1 2 2 2 2 2 1 2 2 1 1 1 2 2 2 2 1 2\n",
      " 2 1 2 2 2 2 2 1 2 2 2 2 2 2 2 2 2 2 2 2 2 2 2 2 2 2 2 2 2 2 2 2 2 2 2 2 2\n",
      " 1 2 2 2 2 2 2 1 2 2 1 2 2 1 2 2 2 2 2 2 2 2 2 2 2 2 2 1 2 2 1 2 2 2 2 2 1\n",
      " 1 1 1 2 1 1 1 2 2 2 2 2 2 2 2 2 2 2 2 1 1 1 1 1 1 2 2 2 1 1 1 2 2 2 1 2 2\n",
      " 2 2 2 2 1 1 1 2 2 2 2 1 2 1 2 1 2 1 2 1 1 1 1 1 1 1 1 1 2 1 2 2 2 2 2 2 2\n",
      " 2 1 2 2 2 2 2 2 1 2 2 2 1 1 1 1 1 1 1 2 2 2 2 2 2 2 2 1 2 1 1 1 2 2 2 1 2\n",
      " 2 1 2 2 2 1 1 2 2 2 2 1 1 2 2 2 2 1 1 1 2 2 2 1 2 2 2 2 2 2 2 2 2 2 1 2 1\n",
      " 2 1 2 1 2 2 2 2 2 2 2 2 2 2 1 1 2 2 2 2 2 2 2 2 2 2 1 1 1 1 1 1 1 1 1 1 2\n",
      " 1 2 2 1 2 2 2 2 2 1 2 2 1 2]\n"
     ]
    }
   ],
   "source": [
    "y_testpred_rf_hyper = gb_grid_search.predict(imp_testdata2)\n",
    "y_test_pred_rf_hyper = y_testpred_rf_hyper+1\n",
    "\n",
    "\n",
    "print(y_test_pred_rf_hyper)\n",
    "predictions_df=pd.DataFrame({\n",
    "    'ID': test['ID'],\n",
    "    'Final':y_test_pred_rf_hyper\n",
    "})\n",
    "\n",
    "predictions_df.to_csv('Normal_GB_Hyper.csv', index=False)"
   ]
  },
  {
   "cell_type": "code",
   "execution_count": null,
   "id": "3ce286c2-4282-4bb0-9132-d85c577b37ba",
   "metadata": {},
   "outputs": [],
   "source": []
  },
  {
   "cell_type": "code",
   "execution_count": null,
   "id": "0c65ea87-9b4d-47a9-af09-c0cc6f7ddd30",
   "metadata": {},
   "outputs": [],
   "source": []
  },
  {
   "cell_type": "code",
   "execution_count": null,
   "id": "7cce8131-4562-4bbb-8f0b-261913e57d2f",
   "metadata": {},
   "outputs": [],
   "source": []
  },
  {
   "cell_type": "code",
   "execution_count": null,
   "id": "1e0c78a8-e0b6-4a8c-95e6-c34e920f9b7a",
   "metadata": {},
   "outputs": [],
   "source": []
  },
  {
   "cell_type": "code",
   "execution_count": null,
   "id": "7ad585f0-6a0c-4e4e-ad82-bd2abd6df53f",
   "metadata": {},
   "outputs": [],
   "source": []
  },
  {
   "cell_type": "code",
   "execution_count": null,
   "id": "99d556cb-454e-483e-a939-b9b1e55eb93c",
   "metadata": {},
   "outputs": [],
   "source": []
  },
  {
   "cell_type": "code",
   "execution_count": null,
   "id": "68a442bd-20cf-47de-bcb2-9992dbbf77d7",
   "metadata": {},
   "outputs": [],
   "source": [
    "## IMPORTANT NOTES"
   ]
  },
  {
   "cell_type": "code",
   "execution_count": null,
   "id": "9f9f0999-58c1-4d65-8ee9-5ff5b6ce7fa6",
   "metadata": {},
   "outputs": [],
   "source": [
    "Using Train data set(train.csv) it was splitted 80% for training set and 20% for test set.Several models were fitted on training set(80% of original train.csv) and checked on test set(20% of original train.csv).\n",
    "Several models Have been fitted.Initially,\n",
    "logistic model,\n",
    "lasso model,\n",
    "Random Forest,\n",
    "Decision Tree\n",
    "SVM\n",
    "MLP\n",
    "Naive Bias\n",
    "XGB\n",
    "GB\n",
    "ADA boosting models(10 Models) were fitted.In here Random Forest gave highest test accuracy as 0.924460431654676\n",
    "\n",
    "Then again those models were fitted by applying hyper parameter tuning.Again Random Forest With Hyper Parameter Tuning gave highest test accuracy as 0.924460431654676\n",
    "\n",
    "During EDA class imbalanceness was observed.Hence Upsampling and Downsampling Methods were employed to overcome the issue of class imbalanceness but their accuracy were low compared to the precvious models.\n",
    "\n",
    "\n",
    "Therefore selected 2 models were used to predict the class of unseen test set(test.csv).Random Forest With Hyper Parameter Tuning gave highest score among the submitted files in Kaggle Competition. "
   ]
  },
  {
   "cell_type": "code",
   "execution_count": null,
   "id": "b0ae1c70-4a4d-46c5-9b2b-950a7b2cb6c4",
   "metadata": {},
   "outputs": [],
   "source": []
  },
  {
   "cell_type": "code",
   "execution_count": null,
   "id": "87f97f29-1476-4966-a28b-3747b4ba27ca",
   "metadata": {},
   "outputs": [],
   "source": []
  },
  {
   "cell_type": "code",
   "execution_count": null,
   "id": "c30dc32b-ea09-4b0e-bd10-4809da047956",
   "metadata": {},
   "outputs": [],
   "source": []
  }
 ],
 "metadata": {
  "kernelspec": {
   "display_name": "Python 3 (ipykernel)",
   "language": "python",
   "name": "python3"
  },
  "language_info": {
   "codemirror_mode": {
    "name": "ipython",
    "version": 3
   },
   "file_extension": ".py",
   "mimetype": "text/x-python",
   "name": "python",
   "nbconvert_exporter": "python",
   "pygments_lexer": "ipython3",
   "version": "3.11.7"
  }
 },
 "nbformat": 4,
 "nbformat_minor": 5
}
